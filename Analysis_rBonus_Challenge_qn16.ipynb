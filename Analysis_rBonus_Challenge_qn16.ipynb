{
 "cells": [
  {
   "cell_type": "code",
   "execution_count": 1,
   "metadata": {},
   "outputs": [],
   "source": [
    "import pandas as pd\n",
    "import numpy as np\n",
    "import matplotlib.pyplot as plt"
   ]
  },
  {
   "cell_type": "code",
   "execution_count": 2,
   "metadata": {},
   "outputs": [
    {
     "data": {
      "text/html": [
       "<div>\n",
       "<style scoped>\n",
       "    .dataframe tbody tr th:only-of-type {\n",
       "        vertical-align: middle;\n",
       "    }\n",
       "\n",
       "    .dataframe tbody tr th {\n",
       "        vertical-align: top;\n",
       "    }\n",
       "\n",
       "    .dataframe thead th {\n",
       "        text-align: right;\n",
       "    }\n",
       "</style>\n",
       "<table border=\"1\" class=\"dataframe\">\n",
       "  <thead>\n",
       "    <tr style=\"text-align: right;\">\n",
       "      <th></th>\n",
       "      <th>Driver</th>\n",
       "      <th>From</th>\n",
       "      <th>To</th>\n",
       "    </tr>\n",
       "  </thead>\n",
       "  <tbody>\n",
       "    <tr>\n",
       "      <th>0</th>\n",
       "      <td>adolf brudes</td>\n",
       "      <td>veritas</td>\n",
       "      <td>veritas</td>\n",
       "    </tr>\n",
       "    <tr>\n",
       "      <th>1</th>\n",
       "      <td>adolfo cruz</td>\n",
       "      <td>cooper</td>\n",
       "      <td>cooper</td>\n",
       "    </tr>\n",
       "    <tr>\n",
       "      <th>2</th>\n",
       "      <td>adrian sutil</td>\n",
       "      <td>spyker</td>\n",
       "      <td>spyker</td>\n",
       "    </tr>\n",
       "    <tr>\n",
       "      <th>3</th>\n",
       "      <td>adrian sutil</td>\n",
       "      <td>spyker</td>\n",
       "      <td>force india</td>\n",
       "    </tr>\n",
       "    <tr>\n",
       "      <th>4</th>\n",
       "      <td>adrian sutil</td>\n",
       "      <td>force india</td>\n",
       "      <td>sauber</td>\n",
       "    </tr>\n",
       "  </tbody>\n",
       "</table>\n",
       "</div>"
      ],
      "text/plain": [
       "         Driver         From           To\n",
       "0  adolf brudes      veritas      veritas\n",
       "1   adolfo cruz       cooper       cooper\n",
       "2  adrian sutil       spyker       spyker\n",
       "3  adrian sutil       spyker  force india\n",
       "4  adrian sutil  force india       sauber"
      ]
     },
     "execution_count": 2,
     "metadata": {},
     "output_type": "execute_result"
    }
   ],
   "source": [
    "data = pd.read_csv('Additional_data/network_teams.csv')\n",
    "data.head()"
   ]
  },
  {
   "cell_type": "code",
   "execution_count": 3,
   "metadata": {},
   "outputs": [],
   "source": [
    "transition_counts = data.groupby(['From', 'To']).size().reset_index(name='count')\n",
    "total_transitions = transition_counts.groupby('From')['count'].sum().reset_index()\n",
    "total_transitions.rename(columns={'count': 'total_out'}, inplace=True)\n",
    "transition_matrix = transition_counts.merge(total_transitions, on='From')\n",
    "\n",
    "transition_matrix['probability'] = transition_matrix['count'] / transition_matrix['total_out']"
   ]
  },
  {
   "cell_type": "code",
   "execution_count": 4,
   "metadata": {},
   "outputs": [
    {
     "name": "stdout",
     "output_type": "stream",
     "text": [
      "Final Stochastic Transition Matrix:\n",
      "            adams       afm       ags  alfa romeo  alphatauri  alpine f1 team  \\\n",
      "adams         1.0  0.000000  0.000000    0.000000    0.000000        0.000000   \n",
      "afm           0.0  0.666667  0.000000    0.000000    0.000000        0.000000   \n",
      "ags           0.0  0.000000  0.333333    0.000000    0.000000        0.000000   \n",
      "alfa romeo    0.0  0.000000  0.000000    0.346154    0.000000        0.000000   \n",
      "alphatauri    0.0  0.000000  0.000000    0.000000    0.333333        0.166667   \n",
      "...           ...       ...       ...         ...         ...             ...   \n",
      "watson        0.0  0.000000  0.000000    0.000000    0.000000        0.000000   \n",
      "wetteroth     0.0  0.000000  0.000000    0.000000    0.000000        0.000000   \n",
      "williams      0.0  0.000000  0.000000    0.015385    0.015385        0.000000   \n",
      "wolf          0.0  0.000000  0.000000    0.000000    0.000000        0.000000   \n",
      "zakspeed      0.0  0.000000  0.000000    0.000000    0.000000        0.000000   \n",
      "\n",
      "            alta  amon  andrea moda  apollon  ...  turner   tyrrell  vanwall  \\\n",
      "adams        0.0   0.0          0.0      0.0  ...     0.0  0.000000      0.0   \n",
      "afm          0.0   0.0          0.0      0.0  ...     0.0  0.000000      0.0   \n",
      "ags          0.0   0.0          0.0      0.0  ...     0.0  0.000000      0.0   \n",
      "alfa romeo   0.0   0.0          0.0      0.0  ...     0.0  0.000000      0.0   \n",
      "alphatauri   0.0   0.0          0.0      0.0  ...     0.0  0.000000      0.0   \n",
      "...          ...   ...          ...      ...  ...     ...       ...      ...   \n",
      "watson       0.0   0.0          0.0      0.0  ...     0.0  0.000000      0.0   \n",
      "wetteroth    0.0   0.0          0.0      0.0  ...     0.0  0.000000      0.0   \n",
      "williams     0.0   0.0          0.0      0.0  ...     0.0  0.030769      0.0   \n",
      "wolf         0.0   0.0          0.0      0.0  ...     0.0  0.000000      0.0   \n",
      "zakspeed     0.0   0.0          0.0      0.0  ...     0.0  0.111111      0.0   \n",
      "\n",
      "             veritas  virgin    watson  wetteroth  williams      wolf  \\\n",
      "adams       0.000000     0.0  0.000000        0.0  0.000000  0.000000   \n",
      "afm         0.166667     0.0  0.000000        0.0  0.000000  0.000000   \n",
      "ags         0.000000     0.0  0.000000        0.0  0.000000  0.000000   \n",
      "alfa romeo  0.038462     0.0  0.000000        0.0  0.000000  0.000000   \n",
      "alphatauri  0.000000     0.0  0.000000        0.0  0.000000  0.000000   \n",
      "...              ...     ...       ...        ...       ...       ...   \n",
      "watson      0.000000     0.0  0.428571        0.0  0.000000  0.000000   \n",
      "wetteroth   0.000000     0.0  0.000000        0.5  0.000000  0.000000   \n",
      "williams    0.000000     0.0  0.000000        0.0  0.384615  0.000000   \n",
      "wolf        0.000000     0.0  0.000000        0.0  0.000000  0.333333   \n",
      "zakspeed    0.000000     0.0  0.000000        0.0  0.111111  0.000000   \n",
      "\n",
      "            zakspeed  \n",
      "adams       0.000000  \n",
      "afm         0.000000  \n",
      "ags         0.000000  \n",
      "alfa romeo  0.000000  \n",
      "alphatauri  0.000000  \n",
      "...              ...  \n",
      "watson      0.000000  \n",
      "wetteroth   0.000000  \n",
      "williams    0.000000  \n",
      "wolf        0.000000  \n",
      "zakspeed    0.222222  \n",
      "\n",
      "[211 rows x 211 columns]\n"
     ]
    }
   ],
   "source": [
    "teams = sorted(set(data['From']).union(set(data['To'])))\n",
    "team_to_index = {team: i for i, team in enumerate(teams)}\n",
    "n = len(teams)\n",
    "A = np.zeros((n, n))\n",
    "for _, row in transition_matrix.iterrows():\n",
    "    i, j = team_to_index[row['From']], team_to_index[row['To']]\n",
    "    A[i, j] = row['probability']\n",
    "\n",
    "A_df = pd.DataFrame(A, index=teams, columns=teams)\n",
    "A_df.to_csv(\"Data_streamlit/q16.csv\",index=False)\n",
    "print(\"Final Stochastic Transition Matrix:\")\n",
    "print(A_df)\n"
   ]
  },
  {
   "cell_type": "markdown",
   "metadata": {},
   "source": [
    "Driver transitions"
   ]
  },
  {
   "cell_type": "code",
   "execution_count": 5,
   "metadata": {},
   "outputs": [],
   "source": [
    "driver = 'max verstappen'"
   ]
  },
  {
   "cell_type": "code",
   "execution_count": 8,
   "metadata": {},
   "outputs": [],
   "source": [
    "results = pd.read_csv('final_dataset/results.csv')\n",
    "driver = pd.read_csv('final_dataset/drivers.csv')\n",
    "constructor = pd.read_csv('final_dataset/constructors.csv')\n",
    "races = pd.read_csv('final_dataset/races.csv')\n",
    "\n",
    "results = results.merge(races[['raceId', 'year']], on='raceId', how='left')\n",
    "results = results.merge(driver[['driverId','forename', 'surname']], on='driverId', how='left')\n",
    "results = results.merge(constructor[['constructorId', 'name']], on='constructorId', how='left')\n",
    "results['forename'] = results['forename'].astype('str')\n",
    "results['surname'] = results['surname'].astype('str')\n",
    "results['Name']  = results['forename']+\" \"+results['surname']\n",
    "results.drop(columns=['forename','surname'],inplace=True)\n",
    "results.rename(columns={'name':'Constructor_name'},inplace=True)"
   ]
  },
  {
   "cell_type": "code",
   "execution_count": 10,
   "metadata": {},
   "outputs": [],
   "source": [
    "team = 'red bull'"
   ]
  },
  {
   "cell_type": "markdown",
   "metadata": {},
   "source": [
    "Finding probability of transitioning from red bull to other teams and finding max probability from that"
   ]
  },
  {
   "cell_type": "code",
   "execution_count": 12,
   "metadata": {},
   "outputs": [
    {
     "data": {
      "text/plain": [
       "toro rosso    0.333333\n",
       "ferrari       0.111111\n",
       "williams      0.111111\n",
       "Name: red bull, dtype: float64"
      ]
     },
     "execution_count": 12,
     "metadata": {},
     "output_type": "execute_result"
    }
   ],
   "source": [
    "transitions = A_df.loc[team].sort_values(ascending=False)\n",
    "top_teams = transitions.head(3)\n",
    "top_teams.to_csv('Data_streamlit/q16_2.csv',index=False)\n",
    "top_teams\n"
   ]
  },
  {
   "cell_type": "markdown",
   "metadata": {},
   "source": [
    "From the probability estimate it is seen that there is a probability of 0.33 for the driver to move from red bull to toro rosso"
   ]
  },
  {
   "cell_type": "code",
   "execution_count": null,
   "metadata": {},
   "outputs": [],
   "source": []
  }
 ],
 "metadata": {
  "kernelspec": {
   "display_name": "base",
   "language": "python",
   "name": "python3"
  },
  "language_info": {
   "codemirror_mode": {
    "name": "ipython",
    "version": 3
   },
   "file_extension": ".py",
   "mimetype": "text/x-python",
   "name": "python",
   "nbconvert_exporter": "python",
   "pygments_lexer": "ipython3",
   "version": "3.11.5"
  }
 },
 "nbformat": 4,
 "nbformat_minor": 2
}
