{
 "cells": [
  {
   "cell_type": "code",
   "execution_count": 78,
   "metadata": {},
   "outputs": [],
   "source": [
    "import pandas as pd\n",
    "import matplotlib.pyplot as plt\n",
    "import seaborn as sns"
   ]
  },
  {
   "cell_type": "code",
   "execution_count": null,
   "metadata": {},
   "outputs": [],
   "source": [
    "# Load data\n",
    "standings_df = pd.read_csv('constructor_standings.csv')\n",
    "constructors_df = pd.read_csv('constructors.csv')\n",
    "races_df = pd.read_csv('races.csv')\n",
    "circuits_df = pd.read_csv('circuits.csv')"
   ]
  },
  {
   "cell_type": "markdown",
   "metadata": {},
   "source": [
    "QUESTION - 7"
   ]
  },
  {
   "cell_type": "code",
   "execution_count": null,
   "metadata": {},
   "outputs": [
    {
     "name": "stdout",
     "output_type": "stream",
     "text": [
      "Available Teams: ['mclaren' 'bmw sauber' 'williams' 'renault' 'toro rosso' 'ferrari'\n",
      " 'toyota' 'super aguri' 'red bull' 'force india' 'honda' 'spyker' 'mf1'\n",
      " 'spyker mf1' 'sauber' 'bar' 'jordan' 'minardi' 'jaguar' 'prost' 'arrows'\n",
      " 'benetton' 'brawn' 'stewart' 'tyrrell' 'lola' 'ligier' 'forti' 'footwork'\n",
      " 'pacific' 'simtek' 'team lotus' 'larrousse' 'brabham' 'dallara'\n",
      " 'fondmetal' 'march' 'andrea moda' 'ags' 'lambo' 'leyton house' 'coloni'\n",
      " 'euro brun' 'osella' 'onyx' 'life' 'rial' 'zakspeed' 'ram' 'alfa romeo'\n",
      " 'spirit' 'toleman' 'ats' 'theodore' 'fittipaldi' 'ensign' 'shadow' 'wolf'\n",
      " 'merzario' 'kauhsen' 'rebaque' 'surtees' 'hesketh' 'martini' 'brm'\n",
      " 'penske' 'lec' 'mcguire' 'boro' 'apollon' 'kojima' 'parnelli' 'maki'\n",
      " 'embassy hill' 'lyncar' 'trojan' 'amon' 'token' 'iso marlboro' 'tecno'\n",
      " 'matra' 'politoys' 'connew' 'bellasi' 'de tomaso' 'cooper' 'eagle' 'lds'\n",
      " 'protos' 'shannon' 'scirocco' 're' 'brp' 'porsche' 'derrington' 'gilby'\n",
      " 'stebro' 'emeryson' 'enb' 'jbw' 'ferguson' 'mbm' 'behra-porsche'\n",
      " 'maserati' 'scarab' 'watson' 'epperly' 'phillips' 'lesovsky' 'trevis'\n",
      " 'meskowski' 'kurtis kraft' 'kuzma' 'christensen' 'ewing' 'aston martin'\n",
      " 'vanwall' 'moore' 'dunn' 'elder' 'sutton' 'fry' 'tec-mec' 'connaught'\n",
      " 'alta' 'osca' 'gordini' 'stevens' 'bugatti' 'mercedes' 'lancia' 'hwm'\n",
      " 'schroeder' 'pawl' 'pankratz' 'arzani-volpini' 'nichels' 'bromme' 'klenk'\n",
      " 'simca' 'turner' 'del roy' 'veritas' 'bmw' 'emw' 'afm' 'frazer nash'\n",
      " 'sherman' 'deidt' 'era' 'aston butterworth' 'cisitalia' 'talbot-lago'\n",
      " 'hall' 'marchese' 'langley' 'rae' 'olson' 'wetteroth' 'adams'\n",
      " 'snowberger' 'milano' 'hrt' 'cooper-maserati' 'virgin' 'cooper-osca'\n",
      " 'cooper-borgward' 'cooper-climax' 'cooper-castellotti' 'lotus-climax'\n",
      " 'lotus-maserati' 'de tomaso-osca' 'de tomaso-alfa romeo' 'lotus-brm'\n",
      " 'lotus-borgward' 'cooper-alfa romeo' 'de tomaso-ferrari' 'lotus-ford'\n",
      " 'brabham-brm' 'brabham-ford' 'brabham-climax' 'lds-climax'\n",
      " 'lds-alfa romeo' 'cooper-ford' 'mclaren-ford' 'mclaren-serenissima'\n",
      " 'eagle-climax' 'eagle-weslake' 'brabham-repco' 'cooper-ferrari'\n",
      " 'cooper-ats' 'mclaren-brm' 'cooper-brm' 'matra-ford' 'brm-ford'\n",
      " 'mclaren-alfa romeo' 'march-alfa romeo' 'march-ford'\n",
      " 'lotus-pratt &amp; whitney' 'shadow-ford' 'shadow-matra'\n",
      " 'brabham-alfa romeo' 'lotus' 'marussia' 'caterham' 'lotus f1'\n",
      " 'manor marussia' 'haas f1 team' 'racing point' 'alphatauri'\n",
      " 'alpine f1 team' 'rb f1 team']\n"
     ]
    }
   ],
   "source": [
    "analysis_df = standings_df.merge(constructors_df, on='constructorId') \\\n",
    "                         .merge(races_df[['raceId', 'year']], on='raceId')\n",
    "\n",
    "teams = constructors_df['name'].unique()\n",
    "print(\"Available teams:\", teams)\n"
   ]
  },
  {
   "cell_type": "code",
   "execution_count": 19,
   "metadata": {},
   "outputs": [],
   "source": [
    "def compare_teams(team1_name, team2_name, df):\n",
    "    team_data = df[df['name'].isin([team1_name, team2_name])]\n",
    "    race_comparisons = team_data.groupby('raceId').agg({\n",
    "        'name': list,\n",
    "        'position': list,\n",
    "        'points': list,\n",
    "        'year': 'first'\n",
    "    })\n",
    "\n",
    "    team1_wins = sum(1 for _, row in race_comparisons.iterrows() if len(row['name']) == 2 and row['position'][row['name'].index(team1_name)] < row['position'][row['name'].index(team2_name)])\n",
    "    team2_wins = sum(1 for _, row in race_comparisons.iterrows() if len(row['name']) == 2 and row['position'][row['name'].index(team2_name)] < row['position'][row['name'].index(team1_name)])\n",
    "\n",
    "    total_races = team1_wins + team2_wins\n",
    "\n",
    "    print(f\"\\nHead-to-head comparison: {team1_name} vs {team2_name}\")\n",
    "    print(f\"Total races compared: {total_races}\")\n",
    "    print(f\"{team1_name} wins: {team1_wins} ({team1_wins/total_races*100:.1f}%)\")\n",
    "    print(f\"{team2_name} wins: {team2_wins} ({team2_wins/total_races*100:.1f}%)\")\n",
    "\n",
    "    # Visualization\n",
    "    plt.bar([team1_name, team2_name], [team1_wins, team2_wins], color=['red', 'blue'])\n",
    "    plt.xlabel(\"Teams\")\n",
    "    plt.ylabel(\"Number of Wins\")\n",
    "    plt.title(f\"Head-to-Head Comparison: {team1_name} vs {team2_name}\")\n",
    "    plt.show()\n"
   ]
  },
  {
   "cell_type": "code",
   "execution_count": 20,
   "metadata": {},
   "outputs": [
    {
     "name": "stdout",
     "output_type": "stream",
     "text": [
      "\n",
      "Head-to-head comparison: ferrari vs mclaren\n",
      "Total races compared: 927\n",
      "ferrari wins: 551 (59.4%)\n",
      "mclaren wins: 376 (40.6%)\n"
     ]
    },
    {
     "data": {
      "image/png": "[encoded data removed]",
      "text/plain": [
       "<Figure size 640x480 with 1 Axes>"
      ]
     },
     "metadata": {},
     "output_type": "display_data"
    },
    {
     "name": "stdout",
     "output_type": "stream",
     "text": [
      "\n",
      "Head-to-head comparison: red bull vs mercedes\n",
      "Total races compared: 305\n",
      "red bull wins: 146 (47.9%)\n",
      "mercedes wins: 159 (52.1%)\n"
     ]
    },
    {
     "data": {
      "image/png": "[encoded data removed]",
      "text/plain": [
       "<Figure size 640x480 with 1 Axes>"
      ]
     },
     "metadata": {},
     "output_type": "display_data"
    }
   ],
   "source": [
    "compare_teams('ferrari', 'mclaren', analysis_df)\n",
    "compare_teams('red bull', 'mercedes', analysis_df)"
   ]
  },
  {
   "cell_type": "code",
   "execution_count": 21,
   "metadata": {},
   "outputs": [
    {
     "name": "stdout",
     "output_type": "stream",
     "text": [
      "\n",
      "Recent performance (2015 onwards):\n",
      "\n",
      "Head-to-head comparison: ferrari vs mercedes\n",
      "Total races compared: 209\n",
      "ferrari wins: 54 (25.8%)\n",
      "mercedes wins: 155 (74.2%)\n"
     ]
    },
    {
     "data": {
      "image/png": "[encoded data removed]",
      "text/plain": [
       "<Figure size 640x480 with 1 Axes>"
      ]
     },
     "metadata": {},
     "output_type": "display_data"
    }
   ],
   "source": [
    "recent_df = analysis_df[analysis_df['year'] >= 2015]\n",
    "print(\"\\nRecent performance (2015 onwards):\")\n",
    "compare_teams('ferrari', 'mercedes', recent_df)\n"
   ]
  },
  {
   "cell_type": "code",
   "execution_count": 24,
   "metadata": {},
   "outputs": [
    {
     "data": {
      "text/html": [
       "<div>\n",
       "<style scoped>\n",
       "    .dataframe tbody tr th:only-of-type {\n",
       "        vertical-align: middle;\n",
       "    }\n",
       "\n",
       "    .dataframe tbody tr th {\n",
       "        vertical-align: top;\n",
       "    }\n",
       "\n",
       "    .dataframe thead th {\n",
       "        text-align: right;\n",
       "    }\n",
       "</style>\n",
       "<table border=\"1\" class=\"dataframe\">\n",
       "  <thead>\n",
       "    <tr style=\"text-align: right;\">\n",
       "      <th></th>\n",
       "      <th>constructorStandingsId</th>\n",
       "      <th>raceId</th>\n",
       "      <th>constructorId</th>\n",
       "      <th>points</th>\n",
       "      <th>position</th>\n",
       "      <th>wins</th>\n",
       "    </tr>\n",
       "  </thead>\n",
       "  <tbody>\n",
       "    <tr>\n",
       "      <th>0</th>\n",
       "      <td>1</td>\n",
       "      <td>18</td>\n",
       "      <td>1</td>\n",
       "      <td>14.0</td>\n",
       "      <td>1</td>\n",
       "      <td>1</td>\n",
       "    </tr>\n",
       "    <tr>\n",
       "      <th>1</th>\n",
       "      <td>2</td>\n",
       "      <td>18</td>\n",
       "      <td>2</td>\n",
       "      <td>8.0</td>\n",
       "      <td>3</td>\n",
       "      <td>0</td>\n",
       "    </tr>\n",
       "    <tr>\n",
       "      <th>2</th>\n",
       "      <td>3</td>\n",
       "      <td>18</td>\n",
       "      <td>3</td>\n",
       "      <td>9.0</td>\n",
       "      <td>2</td>\n",
       "      <td>0</td>\n",
       "    </tr>\n",
       "    <tr>\n",
       "      <th>3</th>\n",
       "      <td>4</td>\n",
       "      <td>18</td>\n",
       "      <td>4</td>\n",
       "      <td>5.0</td>\n",
       "      <td>4</td>\n",
       "      <td>0</td>\n",
       "    </tr>\n",
       "    <tr>\n",
       "      <th>4</th>\n",
       "      <td>5</td>\n",
       "      <td>18</td>\n",
       "      <td>5</td>\n",
       "      <td>2.0</td>\n",
       "      <td>5</td>\n",
       "      <td>0</td>\n",
       "    </tr>\n",
       "  </tbody>\n",
       "</table>\n",
       "</div>"
      ],
      "text/plain": [
       "   constructorStandingsId  raceId  constructorId  points  position  wins\n",
       "0                       1      18              1    14.0         1     1\n",
       "1                       2      18              2     8.0         3     0\n",
       "2                       3      18              3     9.0         2     0\n",
       "3                       4      18              4     5.0         4     0\n",
       "4                       5      18              5     2.0         5     0"
      ]
     },
     "execution_count": 24,
     "metadata": {},
     "output_type": "execute_result"
    }
   ],
   "source": [
    "standings_df.head()"
   ]
  },
  {
   "cell_type": "code",
   "execution_count": 29,
   "metadata": {},
   "outputs": [
    {
     "name": "stdout",
     "output_type": "stream",
     "text": [
      "raceId  name   \n",
      "1       ferrari    1\n",
      "2       ferrari    1\n",
      "        mclaren    1\n",
      "3       ferrari    1\n",
      "        mclaren    1\n",
      "                  ..\n",
      "1142    mclaren    1\n",
      "1143    ferrari    1\n",
      "        mclaren    1\n",
      "1144    ferrari    1\n",
      "        mclaren    1\n",
      "Name: position, Length: 1987, dtype: int64\n"
     ]
    }
   ],
   "source": [
    "team1 = 'ferrari'\n",
    "team2 = 'mclaren'\n",
    "team_data = analysis_df[analysis_df['name'].isin([team1, team2])]\n",
    "print(team_data.groupby(['raceId', 'name'])['position'].count())\n"
   ]
  },
  {
   "cell_type": "code",
   "execution_count": 38,
   "metadata": {},
   "outputs": [
    {
     "name": "stdout",
     "output_type": "stream",
     "text": [
      "\n",
      "Circuit-wise Breakdown for ferrari vs mclaren:\n",
      "albert park grand prix circuit: ferrari 16 - mclaren 8\n",
      "sepang international circuit: ferrari 13 - mclaren 6\n",
      "bahrain international circuit: ferrari 13 - mclaren 8\n",
      "circuit de barcelona-catalunya: ferrari 22 - mclaren 12\n",
      "istanbul park: ferrari 4 - mclaren 5\n",
      "circuit de monaco: ferrari 32 - mclaren 21\n",
      "circuit gilles villeneuve: ferrari 28 - mclaren 15\n",
      "circuit de nevers magny-cours: ferrari 13 - mclaren 5\n",
      "silverstone circuit: ferrari 33 - mclaren 14\n",
      "hockenheimring: ferrari 22 - mclaren 14\n",
      "hungaroring: ferrari 23 - mclaren 16\n",
      "valencia street circuit: ferrari 2 - mclaren 3\n",
      "circuit de spa-francorchamps: ferrari 20 - mclaren 19\n",
      "autodromo nazionale di monza: ferrari 31 - mclaren 23\n",
      "marina bay street circuit: ferrari 10 - mclaren 5\n",
      "fuji speedway: ferrari 4 - mclaren 0\n",
      "shanghai international circuit: ferrari 12 - mclaren 5\n",
      "autódromo josé carlos pace: ferrari 23 - mclaren 17\n",
      "indianapolis motor speedway: ferrari 7 - mclaren 1\n",
      "nürburgring: ferrari 19 - mclaren 7\n",
      "autodromo enzo e dino ferrari: ferrari 14 - mclaren 17\n",
      "suzuka circuit: ferrari 22 - mclaren 12\n",
      "yas marina circuit: ferrari 11 - mclaren 5\n",
      "autódromo juan y oscar gálvez: ferrari 4 - mclaren 9\n",
      "circuito de jerez: ferrari 2 - mclaren 5\n",
      "autódromo do estoril: ferrari 4 - mclaren 9\n",
      "okayama international circuit: ferrari 2 - mclaren 0\n",
      "adelaide street circuit: ferrari 2 - mclaren 9\n",
      "kyalami: ferrari 6 - mclaren 9\n",
      "donington park: ferrari 0 - mclaren 1\n",
      "autódromo hermanos rodríguez: ferrari 9 - mclaren 7\n",
      "phoenix street circuit: ferrari 0 - mclaren 3\n",
      "circuit paul ricard: ferrari 8 - mclaren 10\n",
      "korean international circuit: ferrari 2 - mclaren 2\n",
      "autódromo internacional nelson piquet: ferrari 3 - mclaren 7\n",
      "detroit street circuit: ferrari 2 - mclaren 5\n",
      "brands hatch: ferrari 3 - mclaren 7\n",
      "circuit park zandvoort: ferrari 12 - mclaren 6\n",
      "zolder: ferrari 5 - mclaren 5\n",
      "dijon-prenois: ferrari 5 - mclaren 1\n",
      "fair park: ferrari 0 - mclaren 1\n",
      "long beach: ferrari 5 - mclaren 3\n",
      "las vegas street circuit: ferrari 2 - mclaren 0\n",
      "jarama: ferrari 5 - mclaren 2\n",
      "watkins glen: ferrari 7 - mclaren 4\n",
      "scandinavian raceway: ferrari 4 - mclaren 2\n",
      "mosport international raceway: ferrari 3 - mclaren 3\n",
      "montjuïc: ferrari 1 - mclaren 2\n",
      "nivelles-baulers: ferrari 0 - mclaren 2\n",
      "charade circuit: ferrari 0 - mclaren 1\n",
      "circuit mont-tremblant: ferrari 1 - mclaren 0\n",
      "buddh international circuit: ferrari 2 - mclaren 1\n",
      "circuit of the americas: ferrari 10 - mclaren 2\n",
      "red bull ring: ferrari 25 - mclaren 12\n",
      "sochi autodrom: ferrari 6 - mclaren 2\n",
      "baku city circuit: ferrari 7 - mclaren 1\n",
      "autódromo internacional do algarve: ferrari 0 - mclaren 2\n",
      "autodromo internazionale del mugello: ferrari 0 - mclaren 1\n",
      "jeddah corniche circuit: ferrari 4 - mclaren 0\n",
      "losail international circuit: ferrari 2 - mclaren 1\n",
      "miami international autodrome: ferrari 3 - mclaren 0\n",
      "las vegas strip street circuit: ferrari 1 - mclaren 1\n"
     ]
    }
   ],
   "source": [
    "def compare_teams_with_circuits_debug(team1, team2, df):\n",
    "    \"\"\"Compare race performance between two teams per circuit.\"\"\"\n",
    "    team_data = df[df['name'].isin([team1, team2])]\n",
    "    circuit_results = team_data.groupby(['circuitId', 'name_circuit', 'raceId']).agg({\n",
    "        'name': list,\n",
    "        'position': list\n",
    "    }).reset_index()\n",
    "\n",
    "    circuit_wins = {}\n",
    "\n",
    "    print(f\"\\nCircuit-wise Breakdown for {team1} vs {team2}:\")\n",
    "    for _, row in circuit_results.iterrows():\n",
    "        if len(row['name']) == 2 and team1 in row['name'] and team2 in row['name']:\n",
    "            pos1 = row['position'][row['name'].index(team1)]\n",
    "            pos2 = row['position'][row['name'].index(team2)]\n",
    "            circuit = row['name_circuit']\n",
    "\n",
    "            if pos1 < pos2:\n",
    "                circuit_wins.setdefault(circuit, {team1: 0, team2: 0})\n",
    "                circuit_wins[circuit][team1] += 1\n",
    "            elif pos2 < pos1:\n",
    "                circuit_wins.setdefault(circuit, {team1: 0, team2: 0})\n",
    "                circuit_wins[circuit][team2] += 1\n",
    "\n",
    "    for circuit, results in circuit_wins.items():\n",
    "        print(f\"{circuit}: {team1} {results.get(team1, 0)} - {team2} {results.get(team2, 0)}\")\n",
    "\n",
    "    return circuit_wins\n",
    "\n",
    "# Run and analyze results\n",
    "circuit_results = compare_teams_with_circuits_debug('ferrari', 'mclaren', data)\n"
   ]
  },
  {
   "cell_type": "code",
   "execution_count": 39,
   "metadata": {},
   "outputs": [
    {
     "name": "stdout",
     "output_type": "stream",
     "text": [
      "Total circuit-wise wins: Ferrari 551 - McLaren 376\n"
     ]
    }
   ],
   "source": [
    "# Sum circuit-wise wins\n",
    "ferrari_total_wins = sum(circuit_results[circuit]['ferrari'] for circuit in circuit_results)\n",
    "mclaren_total_wins = sum(circuit_results[circuit]['mclaren'] for circuit in circuit_results)\n",
    "\n",
    "# Compare with overall function output\n",
    "print(f\"Total circuit-wise wins: Ferrari {ferrari_total_wins} - McLaren {mclaren_total_wins}\")\n"
   ]
  },
  {
   "cell_type": "markdown",
   "metadata": {},
   "source": [
    "Here, the circuit factor does not affect the team performance , since the total circuit wins with circuit factor is same as without circuit factor.  The circuit-wise factor is only a categorization and does not alter the calculations. "
   ]
  },
  {
   "cell_type": "code",
   "execution_count": 50,
   "metadata": {},
   "outputs": [],
   "source": [
    "standings1_df = pd.read_csv('constructor_standings.csv')\n",
    "analysis_df = (\n",
    "    standings1_df\n",
    "    .merge(teams, on='constructorId')\n",
    "    .merge(races_df[['raceId', 'year', 'circuitId']], on='raceId')\n",
    "    .merge(circuits_df[['circuitId', 'name']], on='circuitId', suffixes=('', '_circuit'))\n",
    ")"
   ]
  },
  {
   "cell_type": "code",
   "execution_count": 63,
   "metadata": {},
   "outputs": [],
   "source": [
    "def compare_teams_with_circuit_filter(team1, team2, df, circuit_name=None):\n",
    "    \"\"\"Compare race performance between two teams, with an optional circuit filter.\"\"\"\n",
    "    if circuit_name:\n",
    "        df = df[df['name_circuit'].str.lower() == circuit_name.lower()]\n",
    "        print(f\"Filtering races at {circuit_name}...\")\n",
    "    \n",
    "    team_data = df[df['name'].isin([team1, team2])]\n",
    "    circuit_results = team_data.groupby(['circuitId', 'name_circuit', 'raceId'])[['name', 'position', 'year']].agg(list)\n",
    "    \n",
    "    team1_wins, team2_wins = 0, 0\n",
    "    circuit_wins = {}\n",
    "    \n",
    "    for row in circuit_results.itertuples():\n",
    "        if len(row.name) == 2 and team1 in row.name and team2 in row.name:\n",
    "            pos1, pos2 = row.position[row.name.index(team1)], row.position[row.name.index(team2)]\n",
    "            circuit = getattr(row, 'name_circuit', None)\n",
    "\n",
    "            if pos1 < pos2:\n",
    "                team1_wins += 1\n",
    "                if circuit is not None:\n",
    "                    circuit_wins.setdefault(circuit, {team1: 0, team2: 0})\n",
    "                    circuit_wins[circuit][team1] += 1\n",
    "            elif pos2 < pos1:\n",
    "                team2_wins += 1\n",
    "                if circuit is not None:\n",
    "                    circuit_wins.setdefault(circuit, {team1: 0, team2: 0})\n",
    "                    circuit_wins[circuit][team2] += 1\n",
    "    \n",
    "    total = team1_wins + team2_wins\n",
    "    if total == 0:\n",
    "        print(f\"No direct race comparisons found for {team1} and {team2}.\")\n",
    "        return\n",
    "    \n",
    "    print(f\"\\n{team1} vs {team2}\")\n",
    "    print(f\"Total races compared: {total}\")\n",
    "    print(f\"{team1} wins: {team1_wins} ({team1_wins/total*100:.1f}%)\")\n",
    "    print(f\"{team2} wins: {team2_wins} ({team2_wins/total*100:.1f}%)\")\n",
    "    \n",
    "    # Visualization\n",
    "    plt.figure(figsize=(10, 5))\n",
    "    plt.bar([team1, team2], [team1_wins, team2_wins], color=['red', 'blue'])\n",
    "    plt.xlabel(\"Teams\")\n",
    "    plt.ylabel(\"Number of Wins\")\n",
    "    plt.title(f\"Head-to-Head Comparison: {team1} vs {team2}\")\n",
    "    plt.show()\n",
    "    "
   ]
  },
  {
   "cell_type": "code",
   "execution_count": 57,
   "metadata": {},
   "outputs": [
    {
     "name": "stdout",
     "output_type": "stream",
     "text": [
      "['albert park grand prix circuit' 'sepang international circuit'\n",
      " 'bahrain international circuit' 'circuit de barcelona-catalunya'\n",
      " 'istanbul park' 'circuit de monaco' 'circuit gilles villeneuve'\n",
      " 'circuit de nevers magny-cours' 'silverstone circuit' 'hockenheimring'\n",
      " 'hungaroring' 'valencia street circuit' 'circuit de spa-francorchamps'\n",
      " 'autodromo nazionale di monza' 'marina bay street circuit'\n",
      " 'fuji speedway' 'shanghai international circuit'\n",
      " 'autódromo josé carlos pace' 'indianapolis motor speedway' 'nürburgring'\n",
      " 'autodromo enzo e dino ferrari' 'suzuka circuit'\n",
      " 'las vegas strip street circuit' 'yas marina circuit'\n",
      " 'autódromo juan y oscar gálvez' 'circuito de jerez'\n",
      " 'autódromo do estoril' 'okayama international circuit'\n",
      " 'adelaide street circuit' 'kyalami' 'donington park'\n",
      " 'autódromo hermanos rodríguez' 'phoenix street circuit'\n",
      " 'circuit paul ricard' 'korean international circuit'\n",
      " 'autódromo internacional nelson piquet' 'detroit street circuit'\n",
      " 'brands hatch' 'circuit park zandvoort' 'zolder' 'dijon-prenois'\n",
      " 'fair park' 'long beach' 'las vegas street circuit' 'jarama'\n",
      " 'watkins glen' 'scandinavian raceway' 'mosport international raceway'\n",
      " 'montjuïc' 'nivelles-baulers' 'charade circuit' 'circuit mont-tremblant'\n",
      " 'rouen-les-essarts' 'le mans' 'reims-gueux' 'prince george circuit'\n",
      " 'zeltweg' 'aintree' 'circuito da boavista'\n",
      " 'riverside international raceway' 'avus' 'monsanto park circuit'\n",
      " 'sebring international raceway' 'ain diab' 'pescara circuit'\n",
      " 'circuit bremgarten' 'circuit de pedralbes' 'buddh international circuit'\n",
      " 'circuit of the americas' 'red bull ring' 'sochi autodrom'\n",
      " 'baku city circuit' 'autódromo internacional do algarve'\n",
      " 'autodromo internazionale del mugello' 'jeddah corniche circuit'\n",
      " 'losail international circuit' 'miami international autodrome']\n"
     ]
    }
   ],
   "source": [
    "print(circuits_df['name'].unique())"
   ]
  },
  {
   "cell_type": "code",
   "execution_count": 62,
   "metadata": {},
   "outputs": [
    {
     "name": "stdout",
     "output_type": "stream",
     "text": [
      "Filtering races at autodromo nazionale di monza...\n",
      "\n",
      "ferrari vs mclaren\n",
      "Total races compared: 54\n",
      "ferrari wins: 31 (57.4%)\n",
      "mclaren wins: 23 (42.6%)\n"
     ]
    },
    {
     "data": {
      "image/png": "[encoded data removed]",
      "text/plain": [
       "<Figure size 1000x500 with 1 Axes>"
      ]
     },
     "metadata": {},
     "output_type": "display_data"
    }
   ],
   "source": [
    "compare_teams_with_circuit_filter('ferrari', 'mclaren', analysis_df, circuit_name='autodromo nazionale di monza')"
   ]
  },
  {
   "cell_type": "markdown",
   "metadata": {},
   "source": [
    "QUESTION 8"
   ]
  },
  {
   "cell_type": "code",
   "execution_count": 64,
   "metadata": {},
   "outputs": [],
   "source": [
    "results_df = pd.read_csv('results.csv')\n",
    "drivers_df = pd.read_csv('drivers.csv')"
   ]
  },
  {
   "cell_type": "code",
   "execution_count": 65,
   "metadata": {},
   "outputs": [
    {
     "data": {
      "text/html": [
       "<div>\n",
       "<style scoped>\n",
       "    .dataframe tbody tr th:only-of-type {\n",
       "        vertical-align: middle;\n",
       "    }\n",
       "\n",
       "    .dataframe tbody tr th {\n",
       "        vertical-align: top;\n",
       "    }\n",
       "\n",
       "    .dataframe thead th {\n",
       "        text-align: right;\n",
       "    }\n",
       "</style>\n",
       "<table border=\"1\" class=\"dataframe\">\n",
       "  <thead>\n",
       "    <tr style=\"text-align: right;\">\n",
       "      <th></th>\n",
       "      <th>resultId</th>\n",
       "      <th>raceId</th>\n",
       "      <th>driverId</th>\n",
       "      <th>constructorId</th>\n",
       "      <th>number</th>\n",
       "      <th>grid</th>\n",
       "      <th>positionText</th>\n",
       "      <th>positionOrder</th>\n",
       "      <th>points</th>\n",
       "      <th>laps</th>\n",
       "      <th>milliseconds</th>\n",
       "      <th>fastestLap</th>\n",
       "      <th>rank</th>\n",
       "      <th>fastestLapSpeed</th>\n",
       "      <th>status</th>\n",
       "      <th>fastestlaptime_ms</th>\n",
       "    </tr>\n",
       "  </thead>\n",
       "  <tbody>\n",
       "    <tr>\n",
       "      <th>0</th>\n",
       "      <td>1</td>\n",
       "      <td>18</td>\n",
       "      <td>1</td>\n",
       "      <td>1</td>\n",
       "      <td>22</td>\n",
       "      <td>1</td>\n",
       "      <td>1</td>\n",
       "      <td>1</td>\n",
       "      <td>10.0</td>\n",
       "      <td>58</td>\n",
       "      <td>5690616</td>\n",
       "      <td>39</td>\n",
       "      <td>2</td>\n",
       "      <td>218.300</td>\n",
       "      <td>Finished</td>\n",
       "      <td>87452</td>\n",
       "    </tr>\n",
       "    <tr>\n",
       "      <th>1</th>\n",
       "      <td>2</td>\n",
       "      <td>18</td>\n",
       "      <td>2</td>\n",
       "      <td>2</td>\n",
       "      <td>3</td>\n",
       "      <td>5</td>\n",
       "      <td>2</td>\n",
       "      <td>2</td>\n",
       "      <td>8.0</td>\n",
       "      <td>58</td>\n",
       "      <td>5696094</td>\n",
       "      <td>41</td>\n",
       "      <td>3</td>\n",
       "      <td>217.586</td>\n",
       "      <td>Finished</td>\n",
       "      <td>87739</td>\n",
       "    </tr>\n",
       "    <tr>\n",
       "      <th>2</th>\n",
       "      <td>3</td>\n",
       "      <td>18</td>\n",
       "      <td>3</td>\n",
       "      <td>3</td>\n",
       "      <td>7</td>\n",
       "      <td>7</td>\n",
       "      <td>3</td>\n",
       "      <td>3</td>\n",
       "      <td>6.0</td>\n",
       "      <td>58</td>\n",
       "      <td>5698779</td>\n",
       "      <td>41</td>\n",
       "      <td>5</td>\n",
       "      <td>216.719</td>\n",
       "      <td>Finished</td>\n",
       "      <td>88090</td>\n",
       "    </tr>\n",
       "    <tr>\n",
       "      <th>3</th>\n",
       "      <td>4</td>\n",
       "      <td>18</td>\n",
       "      <td>4</td>\n",
       "      <td>4</td>\n",
       "      <td>5</td>\n",
       "      <td>11</td>\n",
       "      <td>4</td>\n",
       "      <td>4</td>\n",
       "      <td>5.0</td>\n",
       "      <td>58</td>\n",
       "      <td>5707797</td>\n",
       "      <td>58</td>\n",
       "      <td>7</td>\n",
       "      <td>215.464</td>\n",
       "      <td>Finished</td>\n",
       "      <td>88603</td>\n",
       "    </tr>\n",
       "    <tr>\n",
       "      <th>4</th>\n",
       "      <td>5</td>\n",
       "      <td>18</td>\n",
       "      <td>5</td>\n",
       "      <td>1</td>\n",
       "      <td>23</td>\n",
       "      <td>3</td>\n",
       "      <td>5</td>\n",
       "      <td>5</td>\n",
       "      <td>4.0</td>\n",
       "      <td>58</td>\n",
       "      <td>5708630</td>\n",
       "      <td>43</td>\n",
       "      <td>1</td>\n",
       "      <td>218.385</td>\n",
       "      <td>Finished</td>\n",
       "      <td>87418</td>\n",
       "    </tr>\n",
       "  </tbody>\n",
       "</table>\n",
       "</div>"
      ],
      "text/plain": [
       "   resultId  raceId  driverId  constructorId number  grid positionText  \\\n",
       "0         1      18         1              1     22     1            1   \n",
       "1         2      18         2              2      3     5            2   \n",
       "2         3      18         3              3      7     7            3   \n",
       "3         4      18         4              4      5    11            4   \n",
       "4         5      18         5              1     23     3            5   \n",
       "\n",
       "   positionOrder  points  laps milliseconds fastestLap rank fastestLapSpeed  \\\n",
       "0              1    10.0    58      5690616         39    2         218.300   \n",
       "1              2     8.0    58      5696094         41    3         217.586   \n",
       "2              3     6.0    58      5698779         41    5         216.719   \n",
       "3              4     5.0    58      5707797         58    7         215.464   \n",
       "4              5     4.0    58      5708630         43    1         218.385   \n",
       "\n",
       "     status  fastestlaptime_ms  \n",
       "0  Finished              87452  \n",
       "1  Finished              87739  \n",
       "2  Finished              88090  \n",
       "3  Finished              88603  \n",
       "4  Finished              87418  "
      ]
     },
     "execution_count": 65,
     "metadata": {},
     "output_type": "execute_result"
    }
   ],
   "source": [
    "results_df.head()"
   ]
  },
  {
   "cell_type": "code",
   "execution_count": 66,
   "metadata": {},
   "outputs": [
    {
     "data": {
      "text/html": [
       "<div>\n",
       "<style scoped>\n",
       "    .dataframe tbody tr th:only-of-type {\n",
       "        vertical-align: middle;\n",
       "    }\n",
       "\n",
       "    .dataframe tbody tr th {\n",
       "        vertical-align: top;\n",
       "    }\n",
       "\n",
       "    .dataframe thead th {\n",
       "        text-align: right;\n",
       "    }\n",
       "</style>\n",
       "<table border=\"1\" class=\"dataframe\">\n",
       "  <thead>\n",
       "    <tr style=\"text-align: right;\">\n",
       "      <th></th>\n",
       "      <th>driverId</th>\n",
       "      <th>raceId</th>\n",
       "      <th>positionOrder</th>\n",
       "      <th>forename</th>\n",
       "    </tr>\n",
       "  </thead>\n",
       "  <tbody>\n",
       "    <tr>\n",
       "      <th>0</th>\n",
       "      <td>1</td>\n",
       "      <td>18</td>\n",
       "      <td>1</td>\n",
       "      <td>lewis</td>\n",
       "    </tr>\n",
       "    <tr>\n",
       "      <th>1</th>\n",
       "      <td>2</td>\n",
       "      <td>18</td>\n",
       "      <td>2</td>\n",
       "      <td>nick</td>\n",
       "    </tr>\n",
       "    <tr>\n",
       "      <th>2</th>\n",
       "      <td>3</td>\n",
       "      <td>18</td>\n",
       "      <td>3</td>\n",
       "      <td>nico</td>\n",
       "    </tr>\n",
       "    <tr>\n",
       "      <th>3</th>\n",
       "      <td>4</td>\n",
       "      <td>18</td>\n",
       "      <td>4</td>\n",
       "      <td>fernando</td>\n",
       "    </tr>\n",
       "    <tr>\n",
       "      <th>4</th>\n",
       "      <td>5</td>\n",
       "      <td>18</td>\n",
       "      <td>5</td>\n",
       "      <td>heikki</td>\n",
       "    </tr>\n",
       "  </tbody>\n",
       "</table>\n",
       "</div>"
      ],
      "text/plain": [
       "   driverId  raceId  positionOrder  forename\n",
       "0         1      18              1     lewis\n",
       "1         2      18              2      nick\n",
       "2         3      18              3      nico\n",
       "3         4      18              4  fernando\n",
       "4         5      18              5    heikki"
      ]
     },
     "execution_count": 66,
     "metadata": {},
     "output_type": "execute_result"
    }
   ],
   "source": [
    "df = results_df[['driverId','raceId','positionOrder']].merge(drivers_df[['driverId','forename']],on = 'driverId')\n",
    "df.head()"
   ]
  },
  {
   "cell_type": "code",
   "execution_count": 91,
   "metadata": {},
   "outputs": [
    {
     "name": "stdout",
     "output_type": "stream",
     "text": [
      "Most Consistent Drivers (Low Variance in Position):\n",
      "      forename     surname  avg_position  std_dev_position  total_races\n",
      "823      kevin   magnussen     13.569892          4.082654          186\n",
      "838      lance      stroll     12.369048          4.350731          168\n",
      "824     daniil       kvyat     12.223214          4.592806          112\n",
      "846  alexander       albon     11.914286          4.595387          105\n",
      "840     pierre       gasly     11.259740          4.691538          154\n",
      "837    esteban        ocon     11.224359          4.732283          156\n",
      "15      adrian       sutil     14.523438          4.748750          128\n",
      "49         jos  verstappen     14.242991          4.854178          107\n",
      "844      lando      norris      7.851562          4.975673          128\n",
      "806       nico  hülkenberg     11.926087          5.026456          230\n",
      "\n",
      "Least Consistent Drivers (High Variance in Position):\n",
      "    forename    surname  avg_position  std_dev_position  total_races\n",
      "76   gerhard     berger     10.914286          7.948536          210\n",
      "136   nelson     piquet     10.024155          8.035987          207\n",
      "181     niki      lauda     10.913793          8.206055          174\n",
      "162     rené     arnoux     13.664634          8.226306          164\n",
      "104  michele   alboreto     14.418605          8.270069          215\n",
      "101   ayrton      senna      8.259259          8.276702          162\n",
      "176     keke    rosberg     13.359375          8.359760          128\n",
      "70     damon       hill      9.918033          8.389870          122\n",
      "94     nigel    mansell     11.244792          8.501153          192\n",
      "139   stefan  johansson     16.038835         10.014619          103\n"
     ]
    }
   ],
   "source": [
    "driver_stats = df.groupby('driverId').agg(\n",
    "    avg_position=('positionOrder', 'mean'),\n",
    "    std_dev_position=('positionOrder', 'std'),\n",
    "    total_races=('positionOrder', 'count')\n",
    ").reset_index()\n",
    "\n",
    "driver_stats = driver_stats.merge(drivers_df[['driverId', 'forename','surname']], on='driverId')\n",
    "\n",
    "driver_stats = driver_stats[driver_stats['total_races'] >= 100]\n",
    "\n",
    "driver_stats = driver_stats.sort_values(by=['std_dev_position', 'avg_position'])\n",
    "\n",
    "print(\"Most Consistent Drivers (Low Variance in Position):\")\n",
    "print(driver_stats[['forename', 'surname','avg_position', 'std_dev_position', 'total_races']].head(10))\n",
    "\n",
    "print(\"\\nLeast Consistent Drivers (High Variance in Position):\")\n",
    "print(driver_stats[['forename','surname', 'avg_position', 'std_dev_position', 'total_races']].tail(10))\n"
   ]
  },
  {
   "cell_type": "markdown",
   "metadata": {},
   "source": [
    "Here , Kevin is the most consistent since he has the lowest standard deviation . Gerhard is the least consistent since he has the highest standard deviation."
   ]
  },
  {
   "cell_type": "markdown",
   "metadata": {},
   "source": [
    "QUESTION 9 "
   ]
  },
  {
   "cell_type": "code",
   "execution_count": 76,
   "metadata": {},
   "outputs": [],
   "source": [
    "lap_times_df = pd.read_csv('lap_times.csv')"
   ]
  },
  {
   "cell_type": "code",
   "execution_count": 77,
   "metadata": {},
   "outputs": [
    {
     "name": "stdout",
     "output_type": "stream",
     "text": [
      "Lap Time Efficiency Across Circuits:\n",
      "                        name_circuit name_constructor   avg_lap_time  \\\n",
      "40    albert park grand prix circuit       rb f1 team   84876.478261   \n",
      "37    albert park grand prix circuit     racing point   90440.789474   \n",
      "11    albert park grand prix circuit           spyker   93105.318182   \n",
      "6     albert park grand prix circuit           toyota   95111.016467   \n",
      "10    albert park grand prix circuit            honda   96319.961404   \n",
      "...                              ...              ...            ...   \n",
      "1034  las vegas strip street circuit     haas f1 team  103992.066667   \n",
      "1027  las vegas strip street circuit         williams  104708.685714   \n",
      "1036  las vegas strip street circuit   alpine f1 team  104966.554878   \n",
      "1031  las vegas strip street circuit       alfa romeo  108320.900000   \n",
      "1035  las vegas strip street circuit       alphatauri  108497.343750   \n",
      "\n",
      "      total_laps  \n",
      "40           115  \n",
      "37           114  \n",
      "11            66  \n",
      "6            668  \n",
      "10           285  \n",
      "...          ...  \n",
      "1034         195  \n",
      "1027         175  \n",
      "1036         164  \n",
      "1031         100  \n",
      "1035          96  \n",
      "\n",
      "[1038 rows x 4 columns]\n"
     ]
    }
   ],
   "source": [
    "import pandas as pd\n",
    "\n",
    "# Merge lap times with results to get constructor info\n",
    "lap_efficiency = lap_times_df.merge(results_df[['raceId', 'driverId', 'constructorId']], on=['raceId', 'driverId'])\n",
    "\n",
    "# Merge with races to get circuit information\n",
    "lap_efficiency = lap_efficiency.merge(races_df[['raceId', 'circuitId']], on='raceId')\n",
    "\n",
    "# Aggregate: Compute average lap time and total laps per constructor per circuit\n",
    "lap_efficiency = lap_efficiency.groupby(['circuitId', 'constructorId']).agg(\n",
    "    avg_lap_time=('milliseconds', 'mean'),\n",
    "    total_laps=('milliseconds', 'count')  # Using count of milliseconds as total laps\n",
    ").reset_index()\n",
    "\n",
    "# Merge with circuit names and constructor names\n",
    "lap_efficiency = lap_efficiency.merge(circuits_df[['circuitId', 'name']], on='circuitId')\n",
    "lap_efficiency = lap_efficiency.merge(constructors_df[['constructorId', 'name']], on='constructorId', suffixes=('_circuit', '_constructor'))\n",
    "\n",
    "# Sort results by circuit and lap time efficiency (ascending order = better efficiency)\n",
    "lap_efficiency = lap_efficiency.sort_values(by=['circuitId', 'avg_lap_time'])\n",
    "\n",
    "print(\"Lap Time Efficiency Across Circuits:\")\n",
    "print(lap_efficiency[['name_circuit', 'name_constructor', 'avg_lap_time', 'total_laps']])\n"
   ]
  },
  {
   "cell_type": "markdown",
   "metadata": {},
   "source": [
    "Rb F1 Team has the lowest average lap time of 84876.47 ms in the Albert Park Grand Prix Circuit."
   ]
  },
  {
   "cell_type": "code",
   "execution_count": 79,
   "metadata": {},
   "outputs": [
    {
     "name": "stdout",
     "output_type": "stream",
     "text": [
      "Most Efficient Team (Lowest Average Lap Time):\n",
      "   name_constructor  overall_avg_lap_time\n",
      "17           jaguar          91077.795318\n"
     ]
    }
   ],
   "source": [
    "# Compute overall efficiency: Average lap time per constructor\n",
    "constructor_efficiency = lap_efficiency.groupby('name_constructor').agg(\n",
    "    overall_avg_lap_time=('avg_lap_time', 'mean')\n",
    ").reset_index()\n",
    "\n",
    "# Find the most efficient team (lowest average lap time)\n",
    "most_efficient_team = constructor_efficiency.nsmallest(1, 'overall_avg_lap_time')\n",
    "\n",
    "# Display results\n",
    "print(\"Most Efficient Team (Lowest Average Lap Time):\")\n",
    "print(most_efficient_team)\n"
   ]
  },
  {
   "cell_type": "code",
   "execution_count": 80,
   "metadata": {},
   "outputs": [
    {
     "name": "stderr",
     "output_type": "stream",
     "text": [
      "C:\\Users\\Ritanya\\AppData\\Local\\Temp\\ipykernel_40000\\1681603627.py:2: FutureWarning: \n",
      "\n",
      "Passing `palette` without assigning `hue` is deprecated and will be removed in v0.14.0. Assign the `y` variable to `hue` and set `legend=False` for the same effect.\n",
      "\n",
      "  sns.barplot(\n"
     ]
    },
    {
     "data": {
      "image/png": "[encoded data removed]",
      "text/plain": [
       "<Figure size 1200x600 with 1 Axes>"
      ]
     },
     "metadata": {},
     "output_type": "display_data"
    }
   ],
   "source": [
    "plt.figure(figsize=(12, 6))\n",
    "sns.barplot(\n",
    "    data=constructor_efficiency.sort_values(by='overall_avg_lap_time'),\n",
    "    x='overall_avg_lap_time',\n",
    "    y='name_constructor',\n",
    "    palette='coolwarm'\n",
    ")\n",
    "\n",
    "plt.xlabel(\"Overall Average Lap Time (ms)\")\n",
    "plt.ylabel(\"Constructor\")\n",
    "plt.title(\"Constructor Lap Time Efficiency (Lower is Better)\")\n",
    "plt.show()\n"
   ]
  },
  {
   "cell_type": "markdown",
   "metadata": {},
   "source": [
    "QUESTION 10"
   ]
  },
  {
   "cell_type": "code",
   "execution_count": 83,
   "metadata": {},
   "outputs": [
    {
     "data": {
      "text/html": [
       "<div>\n",
       "<style scoped>\n",
       "    .dataframe tbody tr th:only-of-type {\n",
       "        vertical-align: middle;\n",
       "    }\n",
       "\n",
       "    .dataframe tbody tr th {\n",
       "        vertical-align: top;\n",
       "    }\n",
       "\n",
       "    .dataframe thead th {\n",
       "        text-align: right;\n",
       "    }\n",
       "</style>\n",
       "<table border=\"1\" class=\"dataframe\">\n",
       "  <thead>\n",
       "    <tr style=\"text-align: right;\">\n",
       "      <th></th>\n",
       "      <th>driverStandingsId</th>\n",
       "      <th>raceId</th>\n",
       "      <th>driverId</th>\n",
       "      <th>points</th>\n",
       "      <th>position</th>\n",
       "      <th>wins</th>\n",
       "    </tr>\n",
       "  </thead>\n",
       "  <tbody>\n",
       "    <tr>\n",
       "      <th>0</th>\n",
       "      <td>1</td>\n",
       "      <td>18</td>\n",
       "      <td>1</td>\n",
       "      <td>10.0</td>\n",
       "      <td>1</td>\n",
       "      <td>1</td>\n",
       "    </tr>\n",
       "    <tr>\n",
       "      <th>1</th>\n",
       "      <td>2</td>\n",
       "      <td>18</td>\n",
       "      <td>2</td>\n",
       "      <td>8.0</td>\n",
       "      <td>2</td>\n",
       "      <td>0</td>\n",
       "    </tr>\n",
       "    <tr>\n",
       "      <th>2</th>\n",
       "      <td>3</td>\n",
       "      <td>18</td>\n",
       "      <td>3</td>\n",
       "      <td>6.0</td>\n",
       "      <td>3</td>\n",
       "      <td>0</td>\n",
       "    </tr>\n",
       "    <tr>\n",
       "      <th>3</th>\n",
       "      <td>4</td>\n",
       "      <td>18</td>\n",
       "      <td>4</td>\n",
       "      <td>5.0</td>\n",
       "      <td>4</td>\n",
       "      <td>0</td>\n",
       "    </tr>\n",
       "    <tr>\n",
       "      <th>4</th>\n",
       "      <td>5</td>\n",
       "      <td>18</td>\n",
       "      <td>5</td>\n",
       "      <td>4.0</td>\n",
       "      <td>5</td>\n",
       "      <td>0</td>\n",
       "    </tr>\n",
       "  </tbody>\n",
       "</table>\n",
       "</div>"
      ],
      "text/plain": [
       "   driverStandingsId  raceId  driverId  points  position  wins\n",
       "0                  1      18         1    10.0         1     1\n",
       "1                  2      18         2     8.0         2     0\n",
       "2                  3      18         3     6.0         3     0\n",
       "3                  4      18         4     5.0         4     0\n",
       "4                  5      18         5     4.0         5     0"
      ]
     },
     "execution_count": 83,
     "metadata": {},
     "output_type": "execute_result"
    }
   ],
   "source": [
    "driver_standings_df = pd.read_csv('driver_standings.csv')\n",
    "driver_standings_df.head()"
   ]
  },
  {
   "cell_type": "code",
   "execution_count": 84,
   "metadata": {},
   "outputs": [
    {
     "name": "stdout",
     "output_type": "stream",
     "text": [
      "Index(['driverStandingsId', 'raceId', 'driverId', 'points', 'position',\n",
      "       'wins'],\n",
      "      dtype='object')\n"
     ]
    }
   ],
   "source": [
    "print(driver_standings_df.columns)\n"
   ]
  },
  {
   "cell_type": "code",
   "execution_count": 90,
   "metadata": {},
   "outputs": [
    {
     "name": "stdout",
     "output_type": "stream",
     "text": [
      "🏆 Best Team Lineup Based on Performance Trends:\n",
      "    forename     surname  total_points  avg_position  total_wins\n",
      "0      lewis    hamilton       50821.5      5.019663      1032.0\n",
      "828      max  verstappen       32849.5      5.645933       709.0\n"
     ]
    }
   ],
   "source": [
    "import pandas as pd\n",
    "\n",
    "# Rename conflicting columns in driver_standings_df\n",
    "driver_standings_df = driver_standings_df.rename(columns={'points': 'standings_points', 'wins': 'standings_wins'})\n",
    "\n",
    "# Strip column names to avoid leading/trailing spaces\n",
    "driver_standings_df.columns = driver_standings_df.columns.str.strip()\n",
    "\n",
    "# Ensure correct data types before merging\n",
    "driver_standings_df = driver_standings_df.astype({'raceId': 'int', 'driverId': 'int'})\n",
    "results_df = results_df.astype({'raceId': 'int', 'driverId': 'int'})\n",
    "\n",
    "# Fill missing values in standings points & wins\n",
    "driver_standings_df[['standings_points', 'standings_wins']] = driver_standings_df[['standings_points', 'standings_wins']].fillna(0)\n",
    "\n",
    "# Merge race results with driver standings to get performance trends\n",
    "driver_performance = results_df.merge(\n",
    "    driver_standings_df[['raceId', 'driverId', 'standings_points', 'standings_wins']], \n",
    "    on=['raceId', 'driverId'], how='left'\n",
    ")\n",
    "\n",
    "# Fill missing values after merging\n",
    "driver_performance[['standings_points', 'standings_wins']] = driver_performance[['standings_points', 'standings_wins']].fillna(0)\n",
    "\n",
    "# Aggregate driver performance statistics\n",
    "driver_performance = driver_performance.groupby('driverId').agg(\n",
    "    avg_position=('positionOrder', 'mean'),   # Lower is better\n",
    "    std_dev_position=('positionOrder', 'std'),  # Lower is better (consistent performance)\n",
    "    total_points=('standings_points', 'sum'),  # Higher is better\n",
    "    total_wins=('standings_wins', 'sum'),  # Higher is better\n",
    "    races_participated=('raceId', 'count')  # Experience level\n",
    ").reset_index()\n",
    "\n",
    "# Merge with driver names for better visualization\n",
    "driver_performance = driver_performance.merge(drivers_df[['driverId', 'forename', 'surname']], on='driverId')\n",
    "\n",
    "# Sort the best-performing drivers\n",
    "driver_performance = driver_performance.sort_values(\n",
    "    by=['total_points', 'avg_position', 'total_wins'], \n",
    "    ascending=[False, True, False]  # More points → Better, Lower position avg → Better, More wins → Better\n",
    ")\n",
    "\n",
    "# Select the top two drivers for the best team lineup\n",
    "best_team_lineup = driver_performance.head(2)\n",
    "\n",
    "# Display results\n",
    "print(\"🏆 Best Team Lineup Based on Performance Trends:\")\n",
    "print(best_team_lineup[['forename', 'surname', 'total_points', 'avg_position', 'total_wins']])\n"
   ]
  },
  {
   "cell_type": "code",
   "execution_count": null,
   "metadata": {},
   "outputs": [
    {
     "name": "stdout",
     "output_type": "stream",
     "text": [
      "🏆 Best Team Lineup Based on Performance Trends:\n",
      "    forename     surname  total_points  avg_position  total_wins\n",
      "0      lewis    hamilton       50821.5      5.019663      1032.0\n",
      "828      max  verstappen       32849.5      5.645933       709.0\n"
     ]
    }
   ],
   "source": [
    "import pandas as pd\n",
    "\n",
    "# Rename conflicting columns in driver_standings_df\n",
    "driver_standings_df = driver_standings_df.rename(columns={'points': 'standings_points', 'wins': 'standings_wins'})\n",
    "\n",
    "# Strip column names to avoid leading/trailing spaces\n",
    "driver_standings_df.columns = driver_standings_df.columns.str.strip()\n",
    "\n",
    "# Ensure correct data types before merging\n",
    "driver_standings_df = driver_standings_df.astype({'raceId': 'int', 'driverId': 'int'})\n",
    "results_df = results_df.astype({'raceId': 'int', 'driverId': 'int'})\n",
    "\n",
    "# Fill missing values in standings points & wins\n",
    "driver_standings_df[['standings_points', 'standings_wins']] = driver_standings_df[['standings_points', 'standings_wins']].fillna(0)\n",
    "\n",
    "# Merge race results with driver standings to get performance trends\n",
    "driver_performance = results_df.merge(\n",
    "    driver_standings_df[['raceId', 'driverId', 'standings_points', 'standings_wins']], \n",
    "    on=['raceId', 'driverId'], how='left'\n",
    ")\n",
    "\n",
    "# Fill missing values after merging\n",
    "driver_performance[['standings_points', 'standings_wins']] = driver_performance[['standings_points', 'standings_wins']].fillna(0)\n",
    "\n",
    "# Aggregate driver performance statistics\n",
    "driver_performance = driver_performance.groupby('driverId').agg(\n",
    "    avg_position=('positionOrder', 'mean'),   # Lower is better\n",
    "    std_dev_position=('positionOrder', 'std'),  # Lower is better (consistent performance)\n",
    "    total_points=('standings_points', 'sum'),  # Higher is better\n",
    "    total_wins=('standings_wins', 'sum'),  # Higher is better\n",
    "    races_participated=('raceId', 'count')  # Experience level\n",
    ").reset_index()\n",
    "\n",
    "# Merge with driver names for better visualization\n",
    "driver_performance = driver_performance.merge(drivers_df[['driverId', 'forename', 'surname']], on='driverId')\n",
    "\n",
    "# Sort the best-performing drivers\n",
    "driver_performance = driver_performance.sort_values(\n",
    "    by=['total_points', 'avg_position', 'total_wins'], \n",
    "    ascending=[False, True, False]  # More points → Better, Lower position avg → Better, More wins → Better\n",
    ")\n",
    "\n",
    "# Select the top two drivers for the best team lineup\n",
    "best_team_lineup = driver_performance.head(2)\n",
    "\n",
    "# Display results\n",
    "print(\"🏆 Best Team Lineup Based on Performance Trends:\")\n",
    "print(best_team_lineup[['forename', 'surname', 'total_points', 'avg_position', 'total_wins']])\n"
   ]
  }
 ],
 "metadata": {
  "kernelspec": {
   "display_name": "Python 3",
   "language": "python",
   "name": "python3"
  },
  "language_info": {
   "codemirror_mode": {
    "name": "ipython",
    "version": 3
   },
   "file_extension": ".py",
   "mimetype": "text/x-python",
   "name": "python",
   "nbconvert_exporter": "python",
   "pygments_lexer": "ipython3",
   "version": "3.12.3"
  }
 },
 "nbformat": 4,
 "nbformat_minor": 2
}
