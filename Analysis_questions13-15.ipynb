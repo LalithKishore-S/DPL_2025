{
 "cells": [
  {
   "cell_type": "code",
   "execution_count": 15,
   "metadata": {},
   "outputs": [],
   "source": [
    "import pandas as pd\n",
    "import numpy as np\n",
    "import matplotlib.pyplot as plt\n",
    "import seaborn as sns"
   ]
  },
  {
   "cell_type": "markdown",
   "metadata": {},
   "source": [
    "13.\tDriver-Specific Track Struggles:<br>\n",
    "○\tIdentify circuits where specific drivers consistently struggle or excel.\n"
   ]
  },
  {
   "cell_type": "code",
   "execution_count": 3,
   "metadata": {},
   "outputs": [],
   "source": [
    "import pandas as pd\n",
    "results = pd.read_csv(\"final_dataset/results.csv\")\n",
    "races = pd.read_csv(\"final_dataset/races.csv\")\n",
    "circuits = pd.read_csv(\"final_dataset/circuits.csv\")\n",
    "drivers = pd.read_csv(\"final_dataset/drivers.csv\")\n",
    "\n",
    "results = results.merge(drivers[['driverId', 'forename','surname']], on='driverId', how='left')\n",
    "results['forename'] = results['forename'].astype('str')\n",
    "results['surname'] = results['surname'].astype('str')\n",
    "results['Name']  = results['forename']+\" \"+results['surname']\n",
    "results.drop(columns=['forename','surname'],inplace=True)\n",
    "results = results.merge(races[['raceId', 'circuitId']], on='raceId', how='left')\n",
    "results = results.merge(circuits[['circuitId','name']],on=['circuitId'],how='left')\n",
    "results.rename(columns={'name':'circuitname'},inplace=True)"
   ]
  },
  {
   "cell_type": "markdown",
   "metadata": {},
   "source": [
    "Overall struggling"
   ]
  },
  {
   "cell_type": "code",
   "execution_count": null,
   "metadata": {},
   "outputs": [
    {
     "name": "stdout",
     "output_type": "stream",
     "text": [
      "Driver Performance by Circuit:\n",
      "           Name                     circuitname  avg_position  avg_points  \\\n",
      "0  adolf brudes                     nürburgring     16.000000    0.000000   \n",
      "1   adolfo cruz   autódromo juan y oscar gálvez     16.000000    0.000000   \n",
      "2  adrian sutil  albert park grand prix circuit     12.428571    1.142857   \n",
      "3  adrian sutil    autodromo nazionale di monza     15.428571    0.714286   \n",
      "4  adrian sutil      autódromo josé carlos pace     13.714286    1.142857   \n",
      "\n",
      "   dnf_rate  \n",
      "0  1.000000  \n",
      "1  1.000000  \n",
      "2  0.714286  \n",
      "3  0.857143  \n",
      "4  1.000000  \n"
     ]
    }
   ],
   "source": [
    "driver_circuit_stats = results.groupby(['Name', 'circuitname']).agg(\n",
    "    avg_position=('positionOrder', 'mean'),  \n",
    "    avg_points=('points', 'mean'),  \n",
    "    dnf_rate=('status', lambda x: (x != 'Finished').mean())  \n",
    ").reset_index()\n",
    "\n",
    "print(\"Driver Performance by Circuit:\")\n",
    "print(driver_circuit_stats.head())\n"
   ]
  },
  {
   "cell_type": "markdown",
   "metadata": {},
   "source": [
    "From these we can say that adolf brudes struggles the most in <b>nürburgring</b> concluded based on large avg position ,low average position and high DNF rate"
   ]
  },
  {
   "cell_type": "markdown",
   "metadata": {},
   "source": [
    "Driver Specific"
   ]
  },
  {
   "cell_type": "code",
   "execution_count": 5,
   "metadata": {},
   "outputs": [],
   "source": [
    "driver = 'max verstappen'\n",
    "\n",
    "driver_data = driver_circuit_stats[driver_circuit_stats['Name'] == driver]\n",
    "struggling_circuits = driver_data.sort_values(by=['dnf_rate', 'avg_points'], ascending=[False, True]).head(3)\n",
    "best_circuits = driver_data.sort_values(by=['avg_position', 'avg_points'], ascending=[True, False]).head(3)"
   ]
  },
  {
   "cell_type": "code",
   "execution_count": 6,
   "metadata": {},
   "outputs": [
    {
     "name": "stdout",
     "output_type": "stream",
     "text": [
      "\n",
      "Circuits Where  max verstappen  Struggles: \n",
      "                Name                           circuitname  avg_position  \\\n",
      "5065  max verstappen  autodromo internazionale del mugello     19.000000   \n",
      "5070  max verstappen         bahrain international circuit      9.909091   \n",
      "5066  max verstappen          autodromo nazionale di monza      8.500000   \n",
      "\n",
      "      avg_points  dnf_rate  \n",
      "5065    0.000000  1.000000  \n",
      "5070    9.818182  0.454545  \n",
      "5066    7.900000  0.400000  \n",
      "\n",
      "Circuits Where  max verstappen  excels: \n",
      "                Name                    circuitname  avg_position  avg_points  \\\n",
      "5077  max verstappen         circuit park zandvoort      1.250000   23.500000   \n",
      "5084  max verstappen   losail international circuit      1.333333   23.333333   \n",
      "5086  max verstappen  miami international autodrome      1.333333   23.333333   \n",
      "\n",
      "      dnf_rate  \n",
      "5077       0.0  \n",
      "5084       0.0  \n",
      "5086       0.0  \n"
     ]
    }
   ],
   "source": [
    "print(\"\\nCircuits Where \",driver,\" Struggles: \")\n",
    "print(struggling_circuits)\n",
    "\n",
    "print(\"\\nCircuits Where \",driver,\" excels: \")\n",
    "print(best_circuits)"
   ]
  },
  {
   "cell_type": "markdown",
   "metadata": {},
   "source": [
    "From these we can conclude that max verstappen <b>struggles</b> most in <b> autodromo internazionale del mugello </b> circuit<br>\n",
    "Also he is known to <b>excel</b> most  in <b> circuit park zandvoort </b> circuit"
   ]
  },
  {
   "cell_type": "markdown",
   "metadata": {},
   "source": [
    "15.\tChampion Age Trends:<br>\n",
    "○\tIdentify the age ranges where drivers consistently win championships across different decades.\n"
   ]
  },
  {
   "cell_type": "code",
   "execution_count": 9,
   "metadata": {},
   "outputs": [
    {
     "data": {
      "text/html": [
       "<div>\n",
       "<style scoped>\n",
       "    .dataframe tbody tr th:only-of-type {\n",
       "        vertical-align: middle;\n",
       "    }\n",
       "\n",
       "    .dataframe tbody tr th {\n",
       "        vertical-align: top;\n",
       "    }\n",
       "\n",
       "    .dataframe thead th {\n",
       "        text-align: right;\n",
       "    }\n",
       "</style>\n",
       "<table border=\"1\" class=\"dataframe\">\n",
       "  <thead>\n",
       "    <tr style=\"text-align: right;\">\n",
       "      <th></th>\n",
       "      <th>year</th>\n",
       "      <th>driverId</th>\n",
       "      <th>total_points</th>\n",
       "      <th>dob</th>\n",
       "      <th>Name</th>\n",
       "      <th>age_at_win</th>\n",
       "    </tr>\n",
       "  </thead>\n",
       "  <tbody>\n",
       "    <tr>\n",
       "      <th>0</th>\n",
       "      <td>1950</td>\n",
       "      <td>642</td>\n",
       "      <td>30.00</td>\n",
       "      <td>1906-10-30</td>\n",
       "      <td>nino farina</td>\n",
       "      <td>44</td>\n",
       "    </tr>\n",
       "    <tr>\n",
       "      <th>1</th>\n",
       "      <td>1951</td>\n",
       "      <td>579</td>\n",
       "      <td>37.00</td>\n",
       "      <td>1911-06-24</td>\n",
       "      <td>juan fangio</td>\n",
       "      <td>40</td>\n",
       "    </tr>\n",
       "    <tr>\n",
       "      <th>2</th>\n",
       "      <td>1952</td>\n",
       "      <td>647</td>\n",
       "      <td>53.50</td>\n",
       "      <td>1918-07-13</td>\n",
       "      <td>alberto ascari</td>\n",
       "      <td>34</td>\n",
       "    </tr>\n",
       "    <tr>\n",
       "      <th>3</th>\n",
       "      <td>1953</td>\n",
       "      <td>647</td>\n",
       "      <td>46.50</td>\n",
       "      <td>1918-07-13</td>\n",
       "      <td>alberto ascari</td>\n",
       "      <td>35</td>\n",
       "    </tr>\n",
       "    <tr>\n",
       "      <th>4</th>\n",
       "      <td>1954</td>\n",
       "      <td>579</td>\n",
       "      <td>57.14</td>\n",
       "      <td>1911-06-24</td>\n",
       "      <td>juan fangio</td>\n",
       "      <td>43</td>\n",
       "    </tr>\n",
       "    <tr>\n",
       "      <th>...</th>\n",
       "      <td>...</td>\n",
       "      <td>...</td>\n",
       "      <td>...</td>\n",
       "      <td>...</td>\n",
       "      <td>...</td>\n",
       "      <td>...</td>\n",
       "    </tr>\n",
       "    <tr>\n",
       "      <th>70</th>\n",
       "      <td>2020</td>\n",
       "      <td>1</td>\n",
       "      <td>347.00</td>\n",
       "      <td>1985-01-07</td>\n",
       "      <td>lewis hamilton</td>\n",
       "      <td>35</td>\n",
       "    </tr>\n",
       "    <tr>\n",
       "      <th>71</th>\n",
       "      <td>2021</td>\n",
       "      <td>830</td>\n",
       "      <td>388.50</td>\n",
       "      <td>1997-09-30</td>\n",
       "      <td>max verstappen</td>\n",
       "      <td>24</td>\n",
       "    </tr>\n",
       "    <tr>\n",
       "      <th>72</th>\n",
       "      <td>2022</td>\n",
       "      <td>830</td>\n",
       "      <td>433.00</td>\n",
       "      <td>1997-09-30</td>\n",
       "      <td>max verstappen</td>\n",
       "      <td>25</td>\n",
       "    </tr>\n",
       "    <tr>\n",
       "      <th>73</th>\n",
       "      <td>2023</td>\n",
       "      <td>830</td>\n",
       "      <td>530.00</td>\n",
       "      <td>1997-09-30</td>\n",
       "      <td>max verstappen</td>\n",
       "      <td>26</td>\n",
       "    </tr>\n",
       "    <tr>\n",
       "      <th>74</th>\n",
       "      <td>2024</td>\n",
       "      <td>830</td>\n",
       "      <td>399.00</td>\n",
       "      <td>1997-09-30</td>\n",
       "      <td>max verstappen</td>\n",
       "      <td>27</td>\n",
       "    </tr>\n",
       "  </tbody>\n",
       "</table>\n",
       "<p>75 rows × 6 columns</p>\n",
       "</div>"
      ],
      "text/plain": [
       "    year  driverId  total_points        dob            Name  age_at_win\n",
       "0   1950       642         30.00 1906-10-30     nino farina          44\n",
       "1   1951       579         37.00 1911-06-24     juan fangio          40\n",
       "2   1952       647         53.50 1918-07-13  alberto ascari          34\n",
       "3   1953       647         46.50 1918-07-13  alberto ascari          35\n",
       "4   1954       579         57.14 1911-06-24     juan fangio          43\n",
       "..   ...       ...           ...        ...             ...         ...\n",
       "70  2020         1        347.00 1985-01-07  lewis hamilton          35\n",
       "71  2021       830        388.50 1997-09-30  max verstappen          24\n",
       "72  2022       830        433.00 1997-09-30  max verstappen          25\n",
       "73  2023       830        530.00 1997-09-30  max verstappen          26\n",
       "74  2024       830        399.00 1997-09-30  max verstappen          27\n",
       "\n",
       "[75 rows x 6 columns]"
      ]
     },
     "execution_count": 9,
     "metadata": {},
     "output_type": "execute_result"
    }
   ],
   "source": [
    "import pandas as pd\n",
    "\n",
    "results = pd.read_csv(\"final_dataset/results.csv\") \n",
    "races = pd.read_csv(\"final_dataset/races.csv\")\n",
    "drivers = pd.read_csv(\"final_dataset/drivers.csv\")  \n",
    "\n",
    "results = results.merge(races[['raceId','year']],on=['raceId'],how='left')\n",
    "season_champions = results.groupby(['year', 'driverId']).agg(total_points=('points', 'sum') ).reset_index()\n",
    "season_champions = season_champions.sort_values(by=['year', 'total_points'], ascending=[True, False])\n",
    "season_champions = season_champions.drop_duplicates(subset=['year'], keep='first')\n",
    "season_champions = season_champions.merge(drivers[['driverId', 'dob', 'forename', 'surname']], on='driverId', how='left')\n",
    "season_champions['forename'] = season_champions['forename'].astype('str')\n",
    "season_champions['surname'] = season_champions['surname'].astype('str')\n",
    "season_champions['Name']  = season_champions['forename']+\" \"+season_champions['surname']\n",
    "season_champions.drop(columns=['forename','surname'],inplace=True)\n",
    "season_champions['dob'] = pd.to_datetime(season_champions['dob'])\n",
    "season_champions['age_at_win'] = season_champions['year'] - season_champions['dob'].dt.year\n",
    "\n",
    "season_champions\n"
   ]
  },
  {
   "cell_type": "markdown",
   "metadata": {},
   "source": [
    "Discretise age into bins of range 5"
   ]
  },
  {
   "cell_type": "code",
   "execution_count": 13,
   "metadata": {},
   "outputs": [
    {
     "data": {
      "text/html": [
       "<div>\n",
       "<style scoped>\n",
       "    .dataframe tbody tr th:only-of-type {\n",
       "        vertical-align: middle;\n",
       "    }\n",
       "\n",
       "    .dataframe tbody tr th {\n",
       "        vertical-align: top;\n",
       "    }\n",
       "\n",
       "    .dataframe thead th {\n",
       "        text-align: right;\n",
       "    }\n",
       "</style>\n",
       "<table border=\"1\" class=\"dataframe\">\n",
       "  <thead>\n",
       "    <tr style=\"text-align: right;\">\n",
       "      <th></th>\n",
       "      <th>year</th>\n",
       "      <th>driverId</th>\n",
       "      <th>total_points</th>\n",
       "      <th>dob</th>\n",
       "      <th>Name</th>\n",
       "      <th>age_at_win</th>\n",
       "      <th>age_group</th>\n",
       "    </tr>\n",
       "  </thead>\n",
       "  <tbody>\n",
       "    <tr>\n",
       "      <th>0</th>\n",
       "      <td>1950</td>\n",
       "      <td>642</td>\n",
       "      <td>30.00</td>\n",
       "      <td>1906-10-30</td>\n",
       "      <td>nino farina</td>\n",
       "      <td>44</td>\n",
       "      <td>40-45</td>\n",
       "    </tr>\n",
       "    <tr>\n",
       "      <th>1</th>\n",
       "      <td>1951</td>\n",
       "      <td>579</td>\n",
       "      <td>37.00</td>\n",
       "      <td>1911-06-24</td>\n",
       "      <td>juan fangio</td>\n",
       "      <td>40</td>\n",
       "      <td>40-45</td>\n",
       "    </tr>\n",
       "    <tr>\n",
       "      <th>2</th>\n",
       "      <td>1952</td>\n",
       "      <td>647</td>\n",
       "      <td>53.50</td>\n",
       "      <td>1918-07-13</td>\n",
       "      <td>alberto ascari</td>\n",
       "      <td>34</td>\n",
       "      <td>30-35</td>\n",
       "    </tr>\n",
       "    <tr>\n",
       "      <th>3</th>\n",
       "      <td>1953</td>\n",
       "      <td>647</td>\n",
       "      <td>46.50</td>\n",
       "      <td>1918-07-13</td>\n",
       "      <td>alberto ascari</td>\n",
       "      <td>35</td>\n",
       "      <td>35-40</td>\n",
       "    </tr>\n",
       "    <tr>\n",
       "      <th>4</th>\n",
       "      <td>1954</td>\n",
       "      <td>579</td>\n",
       "      <td>57.14</td>\n",
       "      <td>1911-06-24</td>\n",
       "      <td>juan fangio</td>\n",
       "      <td>43</td>\n",
       "      <td>40-45</td>\n",
       "    </tr>\n",
       "  </tbody>\n",
       "</table>\n",
       "</div>"
      ],
      "text/plain": [
       "   year  driverId  total_points        dob            Name  age_at_win  \\\n",
       "0  1950       642         30.00 1906-10-30     nino farina          44   \n",
       "1  1951       579         37.00 1911-06-24     juan fangio          40   \n",
       "2  1952       647         53.50 1918-07-13  alberto ascari          34   \n",
       "3  1953       647         46.50 1918-07-13  alberto ascari          35   \n",
       "4  1954       579         57.14 1911-06-24     juan fangio          43   \n",
       "\n",
       "  age_group  \n",
       "0     40-45  \n",
       "1     40-45  \n",
       "2     30-35  \n",
       "3     35-40  \n",
       "4     40-45  "
      ]
     },
     "execution_count": 13,
     "metadata": {},
     "output_type": "execute_result"
    }
   ],
   "source": [
    "bins = list(range(10,season_champions['age_at_win'].max()+5, 5))  \n",
    "labels = [f\"{i}-{i+5}\" for i in bins[:-1]] \n",
    "season_champions['age_group'] = pd.cut(season_champions['age_at_win'], bins=bins, labels=labels, right=False)\n",
    "season_champions.head()"
   ]
  },
  {
   "cell_type": "code",
   "execution_count": 16,
   "metadata": {},
   "outputs": [
    {
     "data": {
      "image/png": "[encoded data removed]",
      "text/plain": [
       "<Figure size 1000x500 with 1 Axes>"
      ]
     },
     "metadata": {},
     "output_type": "display_data"
    }
   ],
   "source": [
    "age_distribution = season_champions['age_group'].value_counts().sort_index()\n",
    "plt.figure(figsize=(10, 5))\n",
    "sns.barplot(x=age_distribution.index, y=age_distribution.values, palette='coolwarm')\n",
    "plt.xlabel(\"Age Group\")\n",
    "plt.ylabel(\"Number of Championships Won\")\n",
    "plt.title(\"Distribution of F1 Champion Ages (5-Year Bins)\")\n",
    "plt.xticks(rotation=45)\n",
    "plt.show()"
   ]
  },
  {
   "cell_type": "markdown",
   "metadata": {},
   "source": [
    "From this we can see that drivers most frequently win championships at around 30-35 years of age followed by 25-30.\n",
    "On the whole we can say that most championships are won by drives in age group <b>25-35</b>"
   ]
  },
  {
   "cell_type": "code",
   "execution_count": null,
   "metadata": {},
   "outputs": [],
   "source": []
  }
 ],
 "metadata": {
  "kernelspec": {
   "display_name": "base",
   "language": "python",
   "name": "python3"
  },
  "language_info": {
   "codemirror_mode": {
    "name": "ipython",
    "version": 3
   },
   "file_extension": ".py",
   "mimetype": "text/x-python",
   "name": "python",
   "nbconvert_exporter": "python",
   "pygments_lexer": "ipython3",
   "version": "3.11.5"
  }
 },
 "nbformat": 4,
 "nbformat_minor": 2
}
