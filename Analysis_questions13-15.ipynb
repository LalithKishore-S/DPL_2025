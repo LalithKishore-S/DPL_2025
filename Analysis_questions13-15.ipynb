{
 "cells": [
  {
   "cell_type": "code",
   "execution_count": 1,
   "metadata": {},
   "outputs": [],
   "source": [
    "import pandas as pd\n",
    "import numpy as np\n",
    "import matplotlib.pyplot as plt"
   ]
  },
  {
   "cell_type": "markdown",
   "metadata": {},
   "source": [
    "13.\tDriver-Specific Track Struggles:<br>\n",
    "○\tIdentify circuits where specific drivers consistently struggle or excel.\n"
   ]
  },
  {
   "cell_type": "code",
   "execution_count": 3,
   "metadata": {},
   "outputs": [],
   "source": [
    "import pandas as pd\n",
    "results = pd.read_csv(\"final_dataset/results.csv\")\n",
    "races = pd.read_csv(\"final_dataset/races.csv\")\n",
    "circuits = pd.read_csv(\"final_dataset/circuits.csv\")\n",
    "drivers = pd.read_csv(\"final_dataset/drivers.csv\")\n",
    "\n",
    "results = results.merge(drivers[['driverId', 'forename','surname']], on='driverId', how='left')\n",
    "results['forename'] = results['forename'].astype('str')\n",
    "results['surname'] = results['surname'].astype('str')\n",
    "results['Name']  = results['forename']+\" \"+results['surname']\n",
    "results.drop(columns=['forename','surname'],inplace=True)\n",
    "results = results.merge(races[['raceId', 'circuitId']], on='raceId', how='left')\n",
    "results = results.merge(circuits[['circuitId','name']],on=['circuitId'],how='left')\n",
    "results.rename(columns={'name':'circuitname'},inplace=True)"
   ]
  },
  {
   "cell_type": "markdown",
   "metadata": {},
   "source": [
    "Overall struggling"
   ]
  },
  {
   "cell_type": "code",
   "execution_count": null,
   "metadata": {},
   "outputs": [
    {
     "name": "stdout",
     "output_type": "stream",
     "text": [
      "Driver Performance by Circuit:\n",
      "           Name                     circuitname  avg_position  avg_points  \\\n",
      "0  adolf brudes                     nürburgring     16.000000    0.000000   \n",
      "1   adolfo cruz   autódromo juan y oscar gálvez     16.000000    0.000000   \n",
      "2  adrian sutil  albert park grand prix circuit     12.428571    1.142857   \n",
      "3  adrian sutil    autodromo nazionale di monza     15.428571    0.714286   \n",
      "4  adrian sutil      autódromo josé carlos pace     13.714286    1.142857   \n",
      "\n",
      "   dnf_rate  \n",
      "0  1.000000  \n",
      "1  1.000000  \n",
      "2  0.714286  \n",
      "3  0.857143  \n",
      "4  1.000000  \n"
     ]
    }
   ],
   "source": [
    "driver_circuit_stats = results.groupby(['Name', 'circuitname']).agg(\n",
    "    avg_position=('positionOrder', 'mean'),  \n",
    "    avg_points=('points', 'mean'),  \n",
    "    dnf_rate=('status', lambda x: (x != 'Finished').mean())  \n",
    ").reset_index()\n",
    "\n",
    "print(\"Driver Performance by Circuit:\")\n",
    "print(driver_circuit_stats.head())\n"
   ]
  },
  {
   "cell_type": "markdown",
   "metadata": {},
   "source": [
    "From these we can say that adolf brudes struggles the most in <b>nürburgring</b> concluded based on large avg position ,low average position and high DNF rate"
   ]
  },
  {
   "cell_type": "markdown",
   "metadata": {},
   "source": [
    "Driver Specific"
   ]
  },
  {
   "cell_type": "code",
   "execution_count": 5,
   "metadata": {},
   "outputs": [],
   "source": [
    "driver = 'max verstappen'\n",
    "\n",
    "driver_data = driver_circuit_stats[driver_circuit_stats['Name'] == driver]\n",
    "struggling_circuits = driver_data.sort_values(by=['dnf_rate', 'avg_points'], ascending=[False, True]).head(3)\n",
    "best_circuits = driver_data.sort_values(by=['avg_position', 'avg_points'], ascending=[True, False]).head(3)"
   ]
  },
  {
   "cell_type": "code",
   "execution_count": 6,
   "metadata": {},
   "outputs": [
    {
     "name": "stdout",
     "output_type": "stream",
     "text": [
      "\n",
      "Circuits Where  max verstappen  Struggles: \n",
      "                Name                           circuitname  avg_position  \\\n",
      "5065  max verstappen  autodromo internazionale del mugello     19.000000   \n",
      "5070  max verstappen         bahrain international circuit      9.909091   \n",
      "5066  max verstappen          autodromo nazionale di monza      8.500000   \n",
      "\n",
      "      avg_points  dnf_rate  \n",
      "5065    0.000000  1.000000  \n",
      "5070    9.818182  0.454545  \n",
      "5066    7.900000  0.400000  \n",
      "\n",
      "Circuits Where  max verstappen  excels: \n",
      "                Name                    circuitname  avg_position  avg_points  \\\n",
      "5077  max verstappen         circuit park zandvoort      1.250000   23.500000   \n",
      "5084  max verstappen   losail international circuit      1.333333   23.333333   \n",
      "5086  max verstappen  miami international autodrome      1.333333   23.333333   \n",
      "\n",
      "      dnf_rate  \n",
      "5077       0.0  \n",
      "5084       0.0  \n",
      "5086       0.0  \n"
     ]
    }
   ],
   "source": [
    "print(\"\\nCircuits Where \",driver,\" Struggles: \")\n",
    "print(struggling_circuits)\n",
    "\n",
    "print(\"\\nCircuits Where \",driver,\" excels: \")\n",
    "print(best_circuits)"
   ]
  },
  {
   "cell_type": "markdown",
   "metadata": {},
   "source": [
    "From these we can conclude that max verstappen <b>struggles</b> most in <b> autodromo internazionale del mugello </b> circuit<br>\n",
    "Also he is known to <b>excel</b> most  in <b> circuit park zandvoort </b> circuit"
   ]
  },
  {
   "cell_type": "markdown",
   "metadata": {},
   "source": [
    "14.\tChampionship Retention Probability:<br>\n",
    "○\tWhat is the probability that this season’s winner will retain the title in the next season? Analyze historical trends of back-to-back champions.\n"
   ]
  },
  {
   "cell_type": "code",
   "execution_count": null,
   "metadata": {},
   "outputs": [],
   "source": []
  }
 ],
 "metadata": {
  "kernelspec": {
   "display_name": "base",
   "language": "python",
   "name": "python3"
  },
  "language_info": {
   "codemirror_mode": {
    "name": "ipython",
    "version": 3
   },
   "file_extension": ".py",
   "mimetype": "text/x-python",
   "name": "python",
   "nbconvert_exporter": "python",
   "pygments_lexer": "ipython3",
   "version": "3.11.5"
  }
 },
 "nbformat": 4,
 "nbformat_minor": 2
}
