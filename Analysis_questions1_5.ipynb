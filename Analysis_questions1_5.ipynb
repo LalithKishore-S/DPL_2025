{
  "cells": [
    {
      "cell_type": "code",
      "execution_count": 3,
      "metadata": {
        "id": "eB--WXlLV1gw"
      },
      "outputs": [],
      "source": [
        "import pandas as pd\n",
        "import numpy as np\n",
        "import matplotlib.pyplot as plt\n",
        "import seaborn as sns\n",
        "import plotly.express as px"
      ]
    },
    {
      "cell_type": "markdown",
      "metadata": {
        "id": "vHpZjtEfV1gy"
      },
      "source": [
        "1.\tDriver & Constructor Performance<br>\n",
        "\tIdentify dominant drivers and constructors by analyzing win ratios and podium finishes.<br>\n",
        "    Assess the relationship between career longevity and success metrics (wins, podiums, points).\n"
      ]
    },
    {
      "cell_type": "code",
      "execution_count": null,
      "metadata": {
        "id": "MCROMAfdV1gz"
      },
      "outputs": [],
      "source": [
        "import pandas as pd\n",
        "\n",
        "results = pd.read_csv(\"final_dataset/results.csv\")\n",
        "drivers = pd.read_csv(\"final_dataset/drivers.csv\")\n",
        "constructors = pd.read_csv(\"final_dataset/constructors.csv\")\n",
        "\n",
        "results = results.merge(drivers[['driverId','forename','surname']], on='driverId', how='left')\n",
        "results = results.merge(constructors[['constructorId', 'name']], on='constructorId', how='left')"
      ]
    },
    {
      "cell_type": "code",
      "execution_count": null,
      "metadata": {
        "id": "dK5YTjGJV1gz"
      },
      "outputs": [],
      "source": [
        "results['forename'] = results['forename'].astype('str')\n",
        "results['surname'] = results['surname'].astype('str')\n",
        "results['Name']  = results['forename']+\" \"+results['surname']\n",
        "results.rename(columns={'name': 'Constructor_name'}, inplace=True)"
      ]
    },
    {
      "cell_type": "code",
      "execution_count": null,
      "metadata": {
        "id": "809lsEutV1gz"
      },
      "outputs": [],
      "source": [
        "results.drop(columns=['forename','surname'],inplace=True)"
      ]
    },
    {
      "cell_type": "code",
      "execution_count": null,
      "metadata": {
        "id": "Bn3aIX4AV1g0",
        "outputId": "f2f9289e-8baa-4576-a9cc-3fcc25870b5c"
      },
      "outputs": [
        {
          "data": {
            "text/html": [
              "<div>\n",
              "<style scoped>\n",
              "    .dataframe tbody tr th:only-of-type {\n",
              "        vertical-align: middle;\n",
              "    }\n",
              "\n",
              "    .dataframe tbody tr th {\n",
              "        vertical-align: top;\n",
              "    }\n",
              "\n",
              "    .dataframe thead th {\n",
              "        text-align: right;\n",
              "    }\n",
              "</style>\n",
              "<table border=\"1\" class=\"dataframe\">\n",
              "  <thead>\n",
              "    <tr style=\"text-align: right;\">\n",
              "      <th></th>\n",
              "      <th>resultId</th>\n",
              "      <th>raceId</th>\n",
              "      <th>driverId</th>\n",
              "      <th>constructorId</th>\n",
              "      <th>number</th>\n",
              "      <th>grid</th>\n",
              "      <th>positionText</th>\n",
              "      <th>positionOrder</th>\n",
              "      <th>points</th>\n",
              "      <th>laps</th>\n",
              "      <th>milliseconds</th>\n",
              "      <th>fastestLap</th>\n",
              "      <th>rank</th>\n",
              "      <th>fastestLapSpeed</th>\n",
              "      <th>status</th>\n",
              "      <th>fastestlaptime_ms</th>\n",
              "      <th>Constructor_name</th>\n",
              "      <th>Name</th>\n",
              "    </tr>\n",
              "  </thead>\n",
              "  <tbody>\n",
              "    <tr>\n",
              "      <th>0</th>\n",
              "      <td>1</td>\n",
              "      <td>18</td>\n",
              "      <td>1</td>\n",
              "      <td>1</td>\n",
              "      <td>22</td>\n",
              "      <td>1</td>\n",
              "      <td>1</td>\n",
              "      <td>1</td>\n",
              "      <td>10.0</td>\n",
              "      <td>58</td>\n",
              "      <td>5690616</td>\n",
              "      <td>39</td>\n",
              "      <td>2</td>\n",
              "      <td>218.300</td>\n",
              "      <td>Finished</td>\n",
              "      <td>87452</td>\n",
              "      <td>mclaren</td>\n",
              "      <td>lewis hamilton</td>\n",
              "    </tr>\n",
              "    <tr>\n",
              "      <th>1</th>\n",
              "      <td>2</td>\n",
              "      <td>18</td>\n",
              "      <td>2</td>\n",
              "      <td>2</td>\n",
              "      <td>3</td>\n",
              "      <td>5</td>\n",
              "      <td>2</td>\n",
              "      <td>2</td>\n",
              "      <td>8.0</td>\n",
              "      <td>58</td>\n",
              "      <td>5696094</td>\n",
              "      <td>41</td>\n",
              "      <td>3</td>\n",
              "      <td>217.586</td>\n",
              "      <td>Finished</td>\n",
              "      <td>87739</td>\n",
              "      <td>bmw sauber</td>\n",
              "      <td>nick heidfeld</td>\n",
              "    </tr>\n",
              "    <tr>\n",
              "      <th>2</th>\n",
              "      <td>3</td>\n",
              "      <td>18</td>\n",
              "      <td>3</td>\n",
              "      <td>3</td>\n",
              "      <td>7</td>\n",
              "      <td>7</td>\n",
              "      <td>3</td>\n",
              "      <td>3</td>\n",
              "      <td>6.0</td>\n",
              "      <td>58</td>\n",
              "      <td>5698779</td>\n",
              "      <td>41</td>\n",
              "      <td>5</td>\n",
              "      <td>216.719</td>\n",
              "      <td>Finished</td>\n",
              "      <td>88090</td>\n",
              "      <td>williams</td>\n",
              "      <td>nico rosberg</td>\n",
              "    </tr>\n",
              "    <tr>\n",
              "      <th>3</th>\n",
              "      <td>4</td>\n",
              "      <td>18</td>\n",
              "      <td>4</td>\n",
              "      <td>4</td>\n",
              "      <td>5</td>\n",
              "      <td>11</td>\n",
              "      <td>4</td>\n",
              "      <td>4</td>\n",
              "      <td>5.0</td>\n",
              "      <td>58</td>\n",
              "      <td>5707797</td>\n",
              "      <td>58</td>\n",
              "      <td>7</td>\n",
              "      <td>215.464</td>\n",
              "      <td>Finished</td>\n",
              "      <td>88603</td>\n",
              "      <td>renault</td>\n",
              "      <td>fernando alonso</td>\n",
              "    </tr>\n",
              "    <tr>\n",
              "      <th>4</th>\n",
              "      <td>5</td>\n",
              "      <td>18</td>\n",
              "      <td>5</td>\n",
              "      <td>1</td>\n",
              "      <td>23</td>\n",
              "      <td>3</td>\n",
              "      <td>5</td>\n",
              "      <td>5</td>\n",
              "      <td>4.0</td>\n",
              "      <td>58</td>\n",
              "      <td>5708630</td>\n",
              "      <td>43</td>\n",
              "      <td>1</td>\n",
              "      <td>218.385</td>\n",
              "      <td>Finished</td>\n",
              "      <td>87418</td>\n",
              "      <td>mclaren</td>\n",
              "      <td>heikki kovalainen</td>\n",
              "    </tr>\n",
              "  </tbody>\n",
              "</table>\n",
              "</div>"
            ],
            "text/plain": [
              "   resultId  raceId  driverId  constructorId number  grid positionText  \\\n",
              "0         1      18         1              1     22     1            1   \n",
              "1         2      18         2              2      3     5            2   \n",
              "2         3      18         3              3      7     7            3   \n",
              "3         4      18         4              4      5    11            4   \n",
              "4         5      18         5              1     23     3            5   \n",
              "\n",
              "   positionOrder  points  laps milliseconds fastestLap rank fastestLapSpeed  \\\n",
              "0              1    10.0    58      5690616         39    2         218.300   \n",
              "1              2     8.0    58      5696094         41    3         217.586   \n",
              "2              3     6.0    58      5698779         41    5         216.719   \n",
              "3              4     5.0    58      5707797         58    7         215.464   \n",
              "4              5     4.0    58      5708630         43    1         218.385   \n",
              "\n",
              "     status  fastestlaptime_ms Constructor_name               Name  \n",
              "0  Finished              87452          mclaren     lewis hamilton  \n",
              "1  Finished              87739       bmw sauber      nick heidfeld  \n",
              "2  Finished              88090         williams       nico rosberg  \n",
              "3  Finished              88603          renault    fernando alonso  \n",
              "4  Finished              87418          mclaren  heikki kovalainen  "
            ]
          },
          "execution_count": 80,
          "metadata": {},
          "output_type": "execute_result"
        }
      ],
      "source": [
        "results.head()"
      ]
    },
    {
      "cell_type": "code",
      "execution_count": null,
      "metadata": {
        "id": "QuMolqOeV1g0",
        "outputId": "4f9c315f-65b7-4c06-cb2a-403d3f0e4f9c"
      },
      "outputs": [
        {
          "name": "stdout",
          "output_type": "stream",
          "text": [
            "Driver\n",
            "                name  wins  podiums  total  total_pts\n",
            "0     lewis hamilton   105      202    356     4820.5\n",
            "1      nick heidfeld     0       13    184      259.0\n",
            "2       nico rosberg    23       57    206     1594.5\n",
            "3    fernando alonso    32      106    404     2329.0\n",
            "4  heikki kovalainen     1        4    112      105.0\n",
            "\n",
            "Constructor\n",
            "         name  wins  podiums  total  total_pts\n",
            "0     mclaren   185      508   1923          0\n",
            "1  bmw sauber     1       17    140          0\n",
            "2    williams   114      314   1676          0\n",
            "3     renault    35      103    787          0\n",
            "4  toro rosso     1        3    536          0\n"
          ]
        }
      ],
      "source": [
        "driver_stats = {}\n",
        "constructor_stats = {}\n",
        "for index, row in results.iterrows():\n",
        "    driver = row['Name']\n",
        "    constructor = row['Constructor_name']\n",
        "    if driver not in driver_stats.keys():\n",
        "        driver_stats[driver] = {'wins': 0, 'podiums': 0, 'total': 0, 'total_pts': 0}\n",
        "    if constructor not in constructor_stats.keys():\n",
        "        constructor_stats[constructor] = {'wins': 0, 'podiums': 0, 'total': 0, 'total_pts': 0}\n",
        "\n",
        "    if row['positionOrder'] == 1:\n",
        "        driver_stats[driver]['wins'] += 1\n",
        "        constructor_stats[constructor]['wins'] += 1\n",
        "    if row['positionOrder'] <= 3:\n",
        "        driver_stats[driver]['podiums'] += 1\n",
        "        constructor_stats[constructor]['podiums'] += 1\n",
        "    constructor_stats[constructor]['total'] += 1\n",
        "    driver_stats[driver]['total'] +=1\n",
        "    driver_stats[driver]['total_pts'] += row['points']\n",
        "\n",
        "\n",
        "driver_performance = pd.DataFrame.from_dict(driver_stats, orient='index').reset_index()\n",
        "driver_performance.rename(columns={'index': 'name'}, inplace=True)\n",
        "print(\"Driver\")\n",
        "print(driver_performance.head())\n",
        "print()\n",
        "\n",
        "constructor_performance = pd.DataFrame.from_dict(constructor_stats, orient='index').reset_index()\n",
        "constructor_performance.rename(columns={'index': 'name'}, inplace=True)\n",
        "print(\"Constructor\")\n",
        "print(constructor_performance.head())"
      ]
    },
    {
      "cell_type": "code",
      "execution_count": null,
      "metadata": {
        "id": "r0_xVwFbV1g1",
        "outputId": "314f6f48-dede-4802-a99f-8f7f40829463"
      },
      "outputs": [
        {
          "name": "stdout",
          "output_type": "stream",
          "text": [
            "10 Dominant Drivers based on win and podium ratio alone\n"
          ]
        },
        {
          "data": {
            "text/plain": [
              "765           lee wallard\n",
              "578           juan fangio\n",
              "656         bill vukovich\n",
              "646        alberto ascari\n",
              "372             jim clark\n",
              "830        max verstappen\n",
              "29     michael schumacher\n",
              "0          lewis hamilton\n",
              "327        jackie stewart\n",
              "100          ayrton senna\n",
              "Name: name, dtype: object"
            ]
          },
          "execution_count": 82,
          "metadata": {},
          "output_type": "execute_result"
        }
      ],
      "source": [
        "driver_performance['Win_ratio'] = driver_performance['wins']/driver_performance['total']\n",
        "driver_performance['podiums_ratio'] = driver_performance['podiums']/driver_performance['total']\n",
        "driver_performance = driver_performance.sort_values(by=['Win_ratio', 'podiums_ratio'], ascending=[False, False])\n",
        "print(\"10 Dominant Drivers based on win and podium ratio alone\")\n",
        "driver_performance['name'].head(10)"
      ]
    },
    {
      "cell_type": "code",
      "execution_count": null,
      "metadata": {
        "id": "StVCD1p8V1g1",
        "outputId": "9270e16d-3476-429c-b43e-cb44a4fb3ea3"
      },
      "outputs": [
        {
          "name": "stdout",
          "output_type": "stream",
          "text": [
            "Dominant drivers based on win ratio,podium ratio and total points\n",
            "{'max verstappen', 'michael schumacher', 'lewis hamilton'}\n"
          ]
        }
      ],
      "source": [
        "temp = driver_performance.sort_values(by=['total_pts'],ascending=[False])\n",
        "print(\"Dominant drivers based on win ratio,podium ratio and total points\")\n",
        "print(set(driver_performance.head(10)['name']).intersection(set(temp.head(10)['name'])))"
      ]
    },
    {
      "cell_type": "code",
      "execution_count": null,
      "metadata": {
        "id": "LUDyF5AiV1g3",
        "outputId": "4cb70c0b-5076-4c8c-e715-8315f367c79a"
      },
      "outputs": [
        {
          "name": "stdout",
          "output_type": "stream",
          "text": [
            "10 Dominant Constructors based on win and podium ratio alone\n"
          ]
        },
        {
          "data": {
            "text/plain": [
              "45             brawn\n",
              "95        matra-ford\n",
              "165         mercedes\n",
              "8           red bull\n",
              "151          vanwall\n",
              "140           watson\n",
              "141          epperly\n",
              "96     brabham-repco\n",
              "5            ferrari\n",
              "0            mclaren\n",
              "Name: name, dtype: object"
            ]
          },
          "execution_count": 84,
          "metadata": {},
          "output_type": "execute_result"
        }
      ],
      "source": [
        "constructor_performance['Win_ratio'] = constructor_performance['wins']/constructor_performance['total']\n",
        "constructor_performance['podiums_ratio'] = constructor_performance['podiums']/constructor_performance['total']\n",
        "constructor_performance = constructor_performance.sort_values(by=['Win_ratio', 'podiums_ratio'], ascending=[False, False])\n",
        "print(\"10 Dominant Constructors based on win and podium ratio alone\")\n",
        "constructor_performance.head(10)['name']"
      ]
    },
    {
      "cell_type": "code",
      "execution_count": null,
      "metadata": {
        "id": "ypB8yUn2V1g3"
      },
      "outputs": [],
      "source": [
        "import pandas as pd\n",
        "\n",
        "constructor_standings = pd.read_csv(\"final_dataset/constructor_standings.csv\")\n",
        "\n",
        "latest_constructor_standings = constructor_standings.loc[\n",
        "    constructor_standings.groupby(\"constructorId\")[\"raceId\"].idxmax()\n",
        "]\n",
        "\n",
        "latest_constructor_standings = latest_constructor_standings[[\"constructorId\", \"points\"]]\n",
        "latest_constructor_standings = latest_constructor_standings.merge(\n",
        "    constructors[['constructorId', 'name']], on=\"constructorId\", how=\"left\"\n",
        ")\n",
        "latest_constructor_standings.rename(columns={\"points\": \"total_points\"}, inplace=True)"
      ]
    },
    {
      "cell_type": "code",
      "execution_count": null,
      "metadata": {
        "id": "EIwTfi9SV1g4",
        "outputId": "970aad13-e204-4732-dc9e-b31f33827c51"
      },
      "outputs": [
        {
          "data": {
            "text/html": [
              "<div>\n",
              "<style scoped>\n",
              "    .dataframe tbody tr th:only-of-type {\n",
              "        vertical-align: middle;\n",
              "    }\n",
              "\n",
              "    .dataframe tbody tr th {\n",
              "        vertical-align: top;\n",
              "    }\n",
              "\n",
              "    .dataframe thead th {\n",
              "        text-align: right;\n",
              "    }\n",
              "</style>\n",
              "<table border=\"1\" class=\"dataframe\">\n",
              "  <thead>\n",
              "    <tr style=\"text-align: right;\">\n",
              "      <th></th>\n",
              "      <th>constructorId</th>\n",
              "      <th>total_points</th>\n",
              "      <th>name</th>\n",
              "    </tr>\n",
              "  </thead>\n",
              "  <tbody>\n",
              "    <tr>\n",
              "      <th>0</th>\n",
              "      <td>1</td>\n",
              "      <td>666.0</td>\n",
              "      <td>mclaren</td>\n",
              "    </tr>\n",
              "    <tr>\n",
              "      <th>1</th>\n",
              "      <td>2</td>\n",
              "      <td>36.0</td>\n",
              "      <td>bmw sauber</td>\n",
              "    </tr>\n",
              "    <tr>\n",
              "      <th>2</th>\n",
              "      <td>3</td>\n",
              "      <td>17.0</td>\n",
              "      <td>williams</td>\n",
              "    </tr>\n",
              "    <tr>\n",
              "      <th>3</th>\n",
              "      <td>4</td>\n",
              "      <td>181.0</td>\n",
              "      <td>renault</td>\n",
              "    </tr>\n",
              "    <tr>\n",
              "      <th>4</th>\n",
              "      <td>5</td>\n",
              "      <td>85.0</td>\n",
              "      <td>toro rosso</td>\n",
              "    </tr>\n",
              "  </tbody>\n",
              "</table>\n",
              "</div>"
            ],
            "text/plain": [
              "   constructorId  total_points        name\n",
              "0              1         666.0     mclaren\n",
              "1              2          36.0  bmw sauber\n",
              "2              3          17.0    williams\n",
              "3              4         181.0     renault\n",
              "4              5          85.0  toro rosso"
            ]
          },
          "execution_count": 86,
          "metadata": {},
          "output_type": "execute_result"
        }
      ],
      "source": [
        "latest_constructor_standings.head()"
      ]
    },
    {
      "cell_type": "code",
      "execution_count": null,
      "metadata": {
        "id": "hqyg4MWFV1g4",
        "outputId": "28b9deed-eaa2-41a7-b41a-23eb404fdb2a"
      },
      "outputs": [
        {
          "name": "stdout",
          "output_type": "stream",
          "text": [
            "Dominant constructors based on win ratio,podium ratio and total points\n",
            "{'red bull', 'mclaren', 'mercedes', 'brawn', 'ferrari'}\n"
          ]
        }
      ],
      "source": [
        "temp = latest_constructor_standings.sort_values(by=['total_points'],ascending=[False])\n",
        "print(\"Dominant constructors based on win ratio,podium ratio and total points\")\n",
        "print(set(constructor_performance.head(10)['name']).intersection(set(temp.head(10)['name'])))"
      ]
    },
    {
      "cell_type": "markdown",
      "metadata": {
        "id": "YeFv6OcGV1g4"
      },
      "source": [
        "Career longetivity vs win metrics[wins,podiums,points]"
      ]
    },
    {
      "cell_type": "code",
      "execution_count": null,
      "metadata": {
        "id": "saeLPZz5V1g4"
      },
      "outputs": [],
      "source": [
        "drivers = pd.read_csv(\"final_dataset/drivers.csv\")\n",
        "results = pd.read_csv(\"final_dataset/results.csv\")\n",
        "races = pd.read_csv(\"final_dataset/races.csv\")\n",
        "\n",
        "results = results.merge(races[['raceId', 'year']], on='raceId', how='left')\n",
        "\n",
        "career_span = results.groupby('driverId')['year'].agg(['min', 'max']).reset_index()\n",
        "career_span['career_length'] = career_span['max'] - career_span['min']\n",
        "career_span = career_span.merge(drivers[['driverId','forename', 'surname']], on='driverId', how='left')\n",
        "career_span['forename'] = career_span['forename'].astype('str')\n",
        "career_span['surname'] = career_span['surname'].astype('str')\n",
        "career_span['name']  = career_span['forename']+\" \"+career_span['surname']\n",
        "career_span.drop(columns=['forename','surname'],inplace=True)"
      ]
    },
    {
      "cell_type": "code",
      "execution_count": null,
      "metadata": {
        "id": "IXkJvhW7V1g5",
        "outputId": "5615f2ae-01a9-49ed-cbbd-57c11f0e9d1e"
      },
      "outputs": [
        {
          "data": {
            "text/html": [
              "<div>\n",
              "<style scoped>\n",
              "    .dataframe tbody tr th:only-of-type {\n",
              "        vertical-align: middle;\n",
              "    }\n",
              "\n",
              "    .dataframe tbody tr th {\n",
              "        vertical-align: top;\n",
              "    }\n",
              "\n",
              "    .dataframe thead th {\n",
              "        text-align: right;\n",
              "    }\n",
              "</style>\n",
              "<table border=\"1\" class=\"dataframe\">\n",
              "  <thead>\n",
              "    <tr style=\"text-align: right;\">\n",
              "      <th></th>\n",
              "      <th>driverId</th>\n",
              "      <th>min</th>\n",
              "      <th>max</th>\n",
              "      <th>career_length</th>\n",
              "      <th>name</th>\n",
              "    </tr>\n",
              "  </thead>\n",
              "  <tbody>\n",
              "    <tr>\n",
              "      <th>0</th>\n",
              "      <td>1</td>\n",
              "      <td>2007</td>\n",
              "      <td>2024</td>\n",
              "      <td>17</td>\n",
              "      <td>lewis hamilton</td>\n",
              "    </tr>\n",
              "    <tr>\n",
              "      <th>1</th>\n",
              "      <td>2</td>\n",
              "      <td>2000</td>\n",
              "      <td>2011</td>\n",
              "      <td>11</td>\n",
              "      <td>nick heidfeld</td>\n",
              "    </tr>\n",
              "    <tr>\n",
              "      <th>2</th>\n",
              "      <td>3</td>\n",
              "      <td>2006</td>\n",
              "      <td>2016</td>\n",
              "      <td>10</td>\n",
              "      <td>nico rosberg</td>\n",
              "    </tr>\n",
              "    <tr>\n",
              "      <th>3</th>\n",
              "      <td>4</td>\n",
              "      <td>2001</td>\n",
              "      <td>2024</td>\n",
              "      <td>23</td>\n",
              "      <td>fernando alonso</td>\n",
              "    </tr>\n",
              "    <tr>\n",
              "      <th>4</th>\n",
              "      <td>5</td>\n",
              "      <td>2007</td>\n",
              "      <td>2013</td>\n",
              "      <td>6</td>\n",
              "      <td>heikki kovalainen</td>\n",
              "    </tr>\n",
              "  </tbody>\n",
              "</table>\n",
              "</div>"
            ],
            "text/plain": [
              "   driverId   min   max  career_length               name\n",
              "0         1  2007  2024             17     lewis hamilton\n",
              "1         2  2000  2011             11      nick heidfeld\n",
              "2         3  2006  2016             10       nico rosberg\n",
              "3         4  2001  2024             23    fernando alonso\n",
              "4         5  2007  2013              6  heikki kovalainen"
            ]
          },
          "execution_count": 89,
          "metadata": {},
          "output_type": "execute_result"
        }
      ],
      "source": [
        "career_span.head()"
      ]
    },
    {
      "cell_type": "code",
      "execution_count": null,
      "metadata": {
        "id": "cwJfCglZV1g5",
        "outputId": "e33714ee-57cf-42bf-f524-6eef7ad247fc"
      },
      "outputs": [
        {
          "data": {
            "text/html": [
              "<div>\n",
              "<style scoped>\n",
              "    .dataframe tbody tr th:only-of-type {\n",
              "        vertical-align: middle;\n",
              "    }\n",
              "\n",
              "    .dataframe tbody tr th {\n",
              "        vertical-align: top;\n",
              "    }\n",
              "\n",
              "    .dataframe thead th {\n",
              "        text-align: right;\n",
              "    }\n",
              "</style>\n",
              "<table border=\"1\" class=\"dataframe\">\n",
              "  <thead>\n",
              "    <tr style=\"text-align: right;\">\n",
              "      <th></th>\n",
              "      <th>name</th>\n",
              "      <th>wins</th>\n",
              "      <th>podiums</th>\n",
              "      <th>total</th>\n",
              "      <th>total_pts</th>\n",
              "      <th>Win_ratio</th>\n",
              "      <th>podiums_ratio</th>\n",
              "      <th>driverId</th>\n",
              "      <th>min</th>\n",
              "      <th>max</th>\n",
              "      <th>career_length</th>\n",
              "    </tr>\n",
              "  </thead>\n",
              "  <tbody>\n",
              "    <tr>\n",
              "      <th>0</th>\n",
              "      <td>lee wallard</td>\n",
              "      <td>1</td>\n",
              "      <td>1</td>\n",
              "      <td>2</td>\n",
              "      <td>9.00</td>\n",
              "      <td>0.500000</td>\n",
              "      <td>0.500000</td>\n",
              "      <td>766</td>\n",
              "      <td>1950</td>\n",
              "      <td>1951</td>\n",
              "      <td>1</td>\n",
              "    </tr>\n",
              "    <tr>\n",
              "      <th>1</th>\n",
              "      <td>juan fangio</td>\n",
              "      <td>24</td>\n",
              "      <td>35</td>\n",
              "      <td>58</td>\n",
              "      <td>279.14</td>\n",
              "      <td>0.413793</td>\n",
              "      <td>0.603448</td>\n",
              "      <td>579</td>\n",
              "      <td>1950</td>\n",
              "      <td>1958</td>\n",
              "      <td>8</td>\n",
              "    </tr>\n",
              "    <tr>\n",
              "      <th>2</th>\n",
              "      <td>bill vukovich</td>\n",
              "      <td>2</td>\n",
              "      <td>2</td>\n",
              "      <td>5</td>\n",
              "      <td>19.00</td>\n",
              "      <td>0.400000</td>\n",
              "      <td>0.400000</td>\n",
              "      <td>657</td>\n",
              "      <td>1951</td>\n",
              "      <td>1955</td>\n",
              "      <td>4</td>\n",
              "    </tr>\n",
              "    <tr>\n",
              "      <th>3</th>\n",
              "      <td>alberto ascari</td>\n",
              "      <td>13</td>\n",
              "      <td>17</td>\n",
              "      <td>36</td>\n",
              "      <td>140.00</td>\n",
              "      <td>0.361111</td>\n",
              "      <td>0.472222</td>\n",
              "      <td>647</td>\n",
              "      <td>1950</td>\n",
              "      <td>1955</td>\n",
              "      <td>5</td>\n",
              "    </tr>\n",
              "    <tr>\n",
              "      <th>4</th>\n",
              "      <td>jim clark</td>\n",
              "      <td>25</td>\n",
              "      <td>32</td>\n",
              "      <td>73</td>\n",
              "      <td>274.00</td>\n",
              "      <td>0.342466</td>\n",
              "      <td>0.438356</td>\n",
              "      <td>373</td>\n",
              "      <td>1960</td>\n",
              "      <td>1968</td>\n",
              "      <td>8</td>\n",
              "    </tr>\n",
              "    <tr>\n",
              "      <th>5</th>\n",
              "      <td>max verstappen</td>\n",
              "      <td>63</td>\n",
              "      <td>112</td>\n",
              "      <td>209</td>\n",
              "      <td>2912.50</td>\n",
              "      <td>0.301435</td>\n",
              "      <td>0.535885</td>\n",
              "      <td>830</td>\n",
              "      <td>2015</td>\n",
              "      <td>2024</td>\n",
              "      <td>9</td>\n",
              "    </tr>\n",
              "    <tr>\n",
              "      <th>6</th>\n",
              "      <td>michael schumacher</td>\n",
              "      <td>91</td>\n",
              "      <td>155</td>\n",
              "      <td>308</td>\n",
              "      <td>1566.00</td>\n",
              "      <td>0.295455</td>\n",
              "      <td>0.503247</td>\n",
              "      <td>30</td>\n",
              "      <td>1991</td>\n",
              "      <td>2012</td>\n",
              "      <td>21</td>\n",
              "    </tr>\n",
              "    <tr>\n",
              "      <th>7</th>\n",
              "      <td>lewis hamilton</td>\n",
              "      <td>105</td>\n",
              "      <td>202</td>\n",
              "      <td>356</td>\n",
              "      <td>4820.50</td>\n",
              "      <td>0.294944</td>\n",
              "      <td>0.567416</td>\n",
              "      <td>1</td>\n",
              "      <td>2007</td>\n",
              "      <td>2024</td>\n",
              "      <td>17</td>\n",
              "    </tr>\n",
              "    <tr>\n",
              "      <th>8</th>\n",
              "      <td>jackie stewart</td>\n",
              "      <td>27</td>\n",
              "      <td>43</td>\n",
              "      <td>100</td>\n",
              "      <td>360.00</td>\n",
              "      <td>0.270000</td>\n",
              "      <td>0.430000</td>\n",
              "      <td>328</td>\n",
              "      <td>1965</td>\n",
              "      <td>1973</td>\n",
              "      <td>8</td>\n",
              "    </tr>\n",
              "    <tr>\n",
              "      <th>9</th>\n",
              "      <td>ayrton senna</td>\n",
              "      <td>41</td>\n",
              "      <td>80</td>\n",
              "      <td>162</td>\n",
              "      <td>614.00</td>\n",
              "      <td>0.253086</td>\n",
              "      <td>0.493827</td>\n",
              "      <td>102</td>\n",
              "      <td>1984</td>\n",
              "      <td>1994</td>\n",
              "      <td>10</td>\n",
              "    </tr>\n",
              "  </tbody>\n",
              "</table>\n",
              "</div>"
            ],
            "text/plain": [
              "                 name  wins  podiums  total  total_pts  Win_ratio  \\\n",
              "0         lee wallard     1        1      2       9.00   0.500000   \n",
              "1         juan fangio    24       35     58     279.14   0.413793   \n",
              "2       bill vukovich     2        2      5      19.00   0.400000   \n",
              "3      alberto ascari    13       17     36     140.00   0.361111   \n",
              "4           jim clark    25       32     73     274.00   0.342466   \n",
              "5      max verstappen    63      112    209    2912.50   0.301435   \n",
              "6  michael schumacher    91      155    308    1566.00   0.295455   \n",
              "7      lewis hamilton   105      202    356    4820.50   0.294944   \n",
              "8      jackie stewart    27       43    100     360.00   0.270000   \n",
              "9        ayrton senna    41       80    162     614.00   0.253086   \n",
              "\n",
              "   podiums_ratio  driverId   min   max  career_length  \n",
              "0       0.500000       766  1950  1951              1  \n",
              "1       0.603448       579  1950  1958              8  \n",
              "2       0.400000       657  1951  1955              4  \n",
              "3       0.472222       647  1950  1955              5  \n",
              "4       0.438356       373  1960  1968              8  \n",
              "5       0.535885       830  2015  2024              9  \n",
              "6       0.503247        30  1991  2012             21  \n",
              "7       0.567416         1  2007  2024             17  \n",
              "8       0.430000       328  1965  1973              8  \n",
              "9       0.493827       102  1984  1994             10  "
            ]
          },
          "execution_count": 90,
          "metadata": {},
          "output_type": "execute_result"
        }
      ],
      "source": [
        "driver_performance = driver_performance.merge(career_span,on='name',how='left')\n",
        "driver_performance.head(10)"
      ]
    },
    {
      "cell_type": "code",
      "execution_count": null,
      "metadata": {
        "id": "uFP3FosbV1g5",
        "outputId": "b5f3bc11-e435-44f2-c695-2bc3d884382a"
      },
      "outputs": [
        {
          "data": {
            "image/png": "[encoded data removed]",
            "text/plain": [
              "<Figure size 640x480 with 2 Axes>"
            ]
          },
          "metadata": {},
          "output_type": "display_data"
        }
      ],
      "source": [
        "sns.heatmap(driver_performance[['wins','podiums','total_pts','career_length']].corr(),annot=True, cmap='coolwarm', fmt=\".2f\")\n",
        "plt.title(\"Career Longevity vs. Success Metrics\")\n",
        "plt.show()"
      ]
    },
    {
      "cell_type": "code",
      "execution_count": null,
      "metadata": {
        "id": "WbBLOP6xV1g5",
        "outputId": "4f6768d3-13c7-4570-fdc1-c1de25f131bd"
      },
      "outputs": [
        {
          "data": {
            "image/png": "[encoded data removed]",
            "text/plain": [
              "<Figure size 1000x500 with 1 Axes>"
            ]
          },
          "metadata": {},
          "output_type": "display_data"
        },
        {
          "data": {
            "image/png": "[encoded data removed]",
            "text/plain": [
              "<Figure size 1000x500 with 1 Axes>"
            ]
          },
          "metadata": {},
          "output_type": "display_data"
        }
      ],
      "source": [
        "plt.figure(figsize=(10,5))\n",
        "sns.scatterplot(x=driver_performance['career_length'], y=driver_performance['wins'])\n",
        "plt.xlabel(\"Career Length (Years)\")\n",
        "plt.ylabel(\"Total Wins\")\n",
        "plt.title(\" Career Longevity vs. Wins\")\n",
        "plt.show()\n",
        "\n",
        "plt.figure(figsize=(10,5))\n",
        "sns.scatterplot(x=driver_performance['career_length'], y=driver_performance['total_pts'])\n",
        "plt.xlabel(\"Career Length (Years)\")\n",
        "plt.ylabel(\"Total Points\")\n",
        "plt.title(\"Career Longevity vs. Points\")\n",
        "plt.show()\n"
      ]
    },
    {
      "cell_type": "markdown",
      "metadata": {
        "id": "-gJdtSdzV1g6"
      },
      "source": [
        "2.\tQualifying vs. Race Performance<br>\n",
        "\tHow does starting grid position impact final race results?<br>\n",
        "\tDo certain drivers excel at making up positions?\n"
      ]
    },
    {
      "cell_type": "code",
      "execution_count": null,
      "metadata": {
        "id": "wqSGfjIhV1g6"
      },
      "outputs": [],
      "source": [
        "results = pd.read_csv(\"final_dataset/results.csv\")\n",
        "drivers = pd.read_csv(\"final_dataset/drivers.csv\")\n",
        "\n",
        "results = results.merge(drivers[['driverId','forename','surname']], on='driverId', how='left')\n",
        "results['forename'] = results['forename'].astype('str')\n",
        "results['surname'] = results['surname'].astype('str')\n",
        "results['Name']  = results['forename']+\" \"+results['surname']\n",
        "\n",
        "results.drop(columns=['forename','surname'],inplace=True)"
      ]
    },
    {
      "cell_type": "markdown",
      "metadata": {
        "id": "R3ek-JyfV1g6"
      },
      "source": [
        "Correlation analysis"
      ]
    },
    {
      "cell_type": "code",
      "execution_count": null,
      "metadata": {
        "id": "68ezsptWV1g6",
        "outputId": "31f9a8de-22c9-4d08-c402-5c6c81cefbb2"
      },
      "outputs": [
        {
          "data": {
            "image/png": "[encoded data removed]",
            "text/plain": [
              "<Figure size 640x480 with 2 Axes>"
            ]
          },
          "metadata": {},
          "output_type": "display_data"
        }
      ],
      "source": [
        "sns.heatmap(results[['grid','positionOrder']].corr(),annot=True, cmap='coolwarm', fmt=\".2f\")\n",
        "plt.title(\"Grid vs final standings\")\n",
        "plt.show()"
      ]
    },
    {
      "cell_type": "markdown",
      "metadata": {
        "id": "BhDcCGbiV1g6"
      },
      "source": [
        "The above indicates that there does not exist much of a linear relationship b/w starting grid and finishing position.But we cant also ignore the fact that there is some(minimal) positive correlation which suggests that lower the starting position lower maybe the finishing position."
      ]
    },
    {
      "cell_type": "code",
      "execution_count": null,
      "metadata": {
        "id": "ufwUPfrZV1g6",
        "outputId": "fda0ca6d-ef9b-49a4-8477-9fe0fa71095f"
      },
      "outputs": [
        {
          "data": {
            "image/png": "[encoded data removed]",
            "text/plain": [
              "<Figure size 800x500 with 1 Axes>"
            ]
          },
          "metadata": {},
          "output_type": "display_data"
        }
      ],
      "source": [
        "results['position_change'] = results['grid'] - results['positionOrder']\n",
        "\n",
        "plt.figure(figsize=(8,5))\n",
        "sns.histplot(results['position_change'], bins=20, kde=True)\n",
        "plt.xlabel(\"Position Change (Grid - Finish)\")\n",
        "plt.ylabel(\"Number of Races\")\n",
        "plt.title(\"Do Drivers Frequently Gain or Lose Positions?\")\n",
        "plt.show()\n"
      ]
    },
    {
      "cell_type": "markdown",
      "metadata": {
        "id": "_Ltr8GEDV1g6"
      },
      "source": [
        "Indicates that mostly driver either gain or stay in same position"
      ]
    },
    {
      "cell_type": "code",
      "execution_count": null,
      "metadata": {
        "id": "8JX4oL-OV1g6",
        "outputId": "49011484-3c9b-44d5-aaa2-cca4a8d4a397"
      },
      "outputs": [
        {
          "data": {
            "image/png": "[encoded data removed]",
            "text/plain": [
              "<Figure size 1000x500 with 1 Axes>"
            ]
          },
          "metadata": {},
          "output_type": "display_data"
        }
      ],
      "source": [
        "import matplotlib.pyplot as plt\n",
        "\n",
        "temp = results[results['positionOrder'] <= 3]\n",
        "\n",
        "plt.figure(figsize=(10, 5))\n",
        "plt.hist(temp['grid'], bins=range(temp['grid'].min(), temp['grid'].max() + 2), edgecolor='black', color='blue')\n",
        "plt.xlabel(\"Start Positions\")\n",
        "plt.ylabel(\"Number of Races Ended in Podium\")\n",
        "plt.title(\"Number of Races Ended in Podium at Each Start Position\")\n",
        "plt.xticks(range(temp['grid'].min(), temp['grid'].max() + 1))\n",
        "plt.show()\n"
      ]
    },
    {
      "cell_type": "code",
      "execution_count": null,
      "metadata": {
        "id": "9PeS10S-V1g6",
        "outputId": "ceb18dfe-c1d7-45c6-8f0b-a5f4a6ece716"
      },
      "outputs": [
        {
          "data": {
            "text/html": [
              "<div>\n",
              "<style scoped>\n",
              "    .dataframe tbody tr th:only-of-type {\n",
              "        vertical-align: middle;\n",
              "    }\n",
              "\n",
              "    .dataframe tbody tr th {\n",
              "        vertical-align: top;\n",
              "    }\n",
              "\n",
              "    .dataframe thead th {\n",
              "        text-align: right;\n",
              "    }\n",
              "</style>\n",
              "<table border=\"1\" class=\"dataframe\">\n",
              "  <thead>\n",
              "    <tr style=\"text-align: right;\">\n",
              "      <th></th>\n",
              "      <th>Name</th>\n",
              "      <th>position_change</th>\n",
              "    </tr>\n",
              "  </thead>\n",
              "  <tbody>\n",
              "    <tr>\n",
              "      <th>287</th>\n",
              "      <td>george amick</td>\n",
              "      <td>23.0</td>\n",
              "    </tr>\n",
              "    <tr>\n",
              "      <th>117</th>\n",
              "      <td>bud tingelstad</td>\n",
              "      <td>19.0</td>\n",
              "    </tr>\n",
              "    <tr>\n",
              "      <th>120</th>\n",
              "      <td>carl forberg</td>\n",
              "      <td>17.0</td>\n",
              "    </tr>\n",
              "    <tr>\n",
              "      <th>242</th>\n",
              "      <td>ernst klodwig</td>\n",
              "      <td>17.0</td>\n",
              "    </tr>\n",
              "    <tr>\n",
              "      <th>594</th>\n",
              "      <td>mike sparken</td>\n",
              "      <td>16.0</td>\n",
              "    </tr>\n",
              "    <tr>\n",
              "      <th>200</th>\n",
              "      <td>dieter quester</td>\n",
              "      <td>16.0</td>\n",
              "    </tr>\n",
              "    <tr>\n",
              "      <th>512</th>\n",
              "      <td>larry crockett</td>\n",
              "      <td>16.0</td>\n",
              "    </tr>\n",
              "    <tr>\n",
              "      <th>669</th>\n",
              "      <td>peter broeker</td>\n",
              "      <td>14.0</td>\n",
              "    </tr>\n",
              "    <tr>\n",
              "      <th>421</th>\n",
              "      <td>jim rigsby</td>\n",
              "      <td>14.0</td>\n",
              "    </tr>\n",
              "    <tr>\n",
              "      <th>80</th>\n",
              "      <td>bill mackey</td>\n",
              "      <td>14.0</td>\n",
              "    </tr>\n",
              "  </tbody>\n",
              "</table>\n",
              "</div>"
            ],
            "text/plain": [
              "               Name  position_change\n",
              "287    george amick             23.0\n",
              "117  bud tingelstad             19.0\n",
              "120    carl forberg             17.0\n",
              "242   ernst klodwig             17.0\n",
              "594    mike sparken             16.0\n",
              "200  dieter quester             16.0\n",
              "512  larry crockett             16.0\n",
              "669   peter broeker             14.0\n",
              "421      jim rigsby             14.0\n",
              "80      bill mackey             14.0"
            ]
          },
          "execution_count": 115,
          "metadata": {},
          "output_type": "execute_result"
        }
      ],
      "source": [
        "top_drives_positions = results.groupby(['Name'])['position_change'].mean().reset_index().sort_values(by=['position_change'],ascending=[False])\n",
        "top_drives_positions.head(10)"
      ]
    },
    {
      "cell_type": "markdown",
      "metadata": {
        "id": "sAmE-ATrV1g6"
      },
      "source": [
        "This indicates that some drivers tend to do better performance at races to have maximum position change (end-start) compared to others.But we cannot say if they are best as some drivers who start and finish near the same position gets a low position change.BUt the above are the people who does best when it comes to making up positions"
      ]
    },
    {
      "cell_type": "code",
      "execution_count": null,
      "metadata": {
        "id": "g7F-IpmgV1g6",
        "outputId": "b71074da-48bc-406a-a4d4-69b9aac4154c"
      },
      "outputs": [
        {
          "name": "stdout",
          "output_type": "stream",
          "text": [
            "Drivers who make up the top 3 grids most number of times\n",
            "Name\n",
            "lewis hamilton        218\n",
            "michael schumacher    169\n",
            "sebastian vettel      145\n",
            "ayrton senna          119\n",
            "alain prost           107\n",
            "max verstappen        103\n",
            "nigel mansell          91\n",
            "valtteri bottas        86\n",
            "kimi räikkönen         82\n",
            "fernando alonso        74\n",
            "Name: count, dtype: int64\n"
          ]
        }
      ],
      "source": [
        "temp = results[results['grid']<=3]\n",
        "print(\"Drivers who make up the top 3 grids most number of times\")\n",
        "print(temp['Name'].value_counts().head(10))"
      ]
    },
    {
      "cell_type": "markdown",
      "metadata": {
        "id": "3twRV2xNV1g7"
      },
      "source": [
        "3.\tPit Stop Strategies<br>\n",
        "○\tEvaluate optimal pit stop frequency and timing for race success.<br>\n",
        "○\tAnalyze pit stop efficiency and its influence on race outcomes.\n"
      ]
    },
    {
      "cell_type": "code",
      "execution_count": null,
      "metadata": {
        "id": "Q7CtrUfwV1g7",
        "outputId": "e792c636-1afb-49c0-a50a-6e6c0a6b757d"
      },
      "outputs": [
        {
          "data": {
            "text/html": [
              "<div>\n",
              "<style scoped>\n",
              "    .dataframe tbody tr th:only-of-type {\n",
              "        vertical-align: middle;\n",
              "    }\n",
              "\n",
              "    .dataframe tbody tr th {\n",
              "        vertical-align: top;\n",
              "    }\n",
              "\n",
              "    .dataframe thead th {\n",
              "        text-align: right;\n",
              "    }\n",
              "</style>\n",
              "<table border=\"1\" class=\"dataframe\">\n",
              "  <thead>\n",
              "    <tr style=\"text-align: right;\">\n",
              "      <th></th>\n",
              "      <th>raceId</th>\n",
              "      <th>driverId</th>\n",
              "      <th>total_pit_stops</th>\n",
              "      <th>total_pit_time</th>\n",
              "    </tr>\n",
              "  </thead>\n",
              "  <tbody>\n",
              "    <tr>\n",
              "      <th>0</th>\n",
              "      <td>841</td>\n",
              "      <td>1</td>\n",
              "      <td>2</td>\n",
              "      <td>46426</td>\n",
              "    </tr>\n",
              "    <tr>\n",
              "      <th>1</th>\n",
              "      <td>841</td>\n",
              "      <td>2</td>\n",
              "      <td>2</td>\n",
              "      <td>48092</td>\n",
              "    </tr>\n",
              "    <tr>\n",
              "      <th>2</th>\n",
              "      <td>841</td>\n",
              "      <td>3</td>\n",
              "      <td>1</td>\n",
              "      <td>23716</td>\n",
              "    </tr>\n",
              "    <tr>\n",
              "      <th>3</th>\n",
              "      <td>841</td>\n",
              "      <td>4</td>\n",
              "      <td>3</td>\n",
              "      <td>72165</td>\n",
              "    </tr>\n",
              "    <tr>\n",
              "      <th>4</th>\n",
              "      <td>841</td>\n",
              "      <td>5</td>\n",
              "      <td>1</td>\n",
              "      <td>24865</td>\n",
              "    </tr>\n",
              "  </tbody>\n",
              "</table>\n",
              "</div>"
            ],
            "text/plain": [
              "   raceId  driverId  total_pit_stops  total_pit_time\n",
              "0     841         1                2           46426\n",
              "1     841         2                2           48092\n",
              "2     841         3                1           23716\n",
              "3     841         4                3           72165\n",
              "4     841         5                1           24865"
            ]
          },
          "execution_count": 153,
          "metadata": {},
          "output_type": "execute_result"
        }
      ],
      "source": [
        "results = pd.read_csv(\"final_dataset/results.csv\")\n",
        "pit_stops = pd.read_csv(\"final_dataset/pit_stops.csv\")\n",
        "\n",
        "pit_stops = pit_stops[['raceId','driverId','stop','milliseconds']]\n",
        "pit_stops_cumulative = pit_stops.groupby(['raceId', 'driverId']).agg(total_pit_stops=('stop', 'count'), total_pit_time=('milliseconds', 'sum')).reset_index()\n",
        "pit_stops_cumulative.head()"
      ]
    },
    {
      "cell_type": "code",
      "execution_count": null,
      "metadata": {
        "id": "rUFoBqsuV1g7",
        "outputId": "90f15022-b6b5-4306-de87-8830ef6532cb"
      },
      "outputs": [
        {
          "data": {
            "text/html": [
              "<div>\n",
              "<style scoped>\n",
              "    .dataframe tbody tr th:only-of-type {\n",
              "        vertical-align: middle;\n",
              "    }\n",
              "\n",
              "    .dataframe tbody tr th {\n",
              "        vertical-align: top;\n",
              "    }\n",
              "\n",
              "    .dataframe thead th {\n",
              "        text-align: right;\n",
              "    }\n",
              "</style>\n",
              "<table border=\"1\" class=\"dataframe\">\n",
              "  <thead>\n",
              "    <tr style=\"text-align: right;\">\n",
              "      <th></th>\n",
              "      <th>raceId</th>\n",
              "      <th>driverId</th>\n",
              "      <th>total_pit_stops</th>\n",
              "      <th>total_pit_time</th>\n",
              "      <th>positionOrder</th>\n",
              "    </tr>\n",
              "  </thead>\n",
              "  <tbody>\n",
              "    <tr>\n",
              "      <th>0</th>\n",
              "      <td>841</td>\n",
              "      <td>1</td>\n",
              "      <td>2</td>\n",
              "      <td>46426</td>\n",
              "      <td>2</td>\n",
              "    </tr>\n",
              "    <tr>\n",
              "      <th>1</th>\n",
              "      <td>841</td>\n",
              "      <td>2</td>\n",
              "      <td>2</td>\n",
              "      <td>48092</td>\n",
              "      <td>12</td>\n",
              "    </tr>\n",
              "    <tr>\n",
              "      <th>2</th>\n",
              "      <td>841</td>\n",
              "      <td>3</td>\n",
              "      <td>1</td>\n",
              "      <td>23716</td>\n",
              "      <td>17</td>\n",
              "    </tr>\n",
              "    <tr>\n",
              "      <th>3</th>\n",
              "      <td>841</td>\n",
              "      <td>4</td>\n",
              "      <td>3</td>\n",
              "      <td>72165</td>\n",
              "      <td>4</td>\n",
              "    </tr>\n",
              "    <tr>\n",
              "      <th>4</th>\n",
              "      <td>841</td>\n",
              "      <td>5</td>\n",
              "      <td>1</td>\n",
              "      <td>24865</td>\n",
              "      <td>18</td>\n",
              "    </tr>\n",
              "  </tbody>\n",
              "</table>\n",
              "</div>"
            ],
            "text/plain": [
              "   raceId  driverId  total_pit_stops  total_pit_time  positionOrder\n",
              "0     841         1                2           46426              2\n",
              "1     841         2                2           48092             12\n",
              "2     841         3                1           23716             17\n",
              "3     841         4                3           72165              4\n",
              "4     841         5                1           24865             18"
            ]
          },
          "execution_count": 154,
          "metadata": {},
          "output_type": "execute_result"
        }
      ],
      "source": [
        "pit_stops_cumulative = pit_stops_cumulative.merge(results[['raceId', 'driverId', 'positionOrder']],on=['raceId', 'driverId'],how='left')\n",
        "pit_stops_cumulative.head()"
      ]
    },
    {
      "cell_type": "code",
      "execution_count": null,
      "metadata": {
        "id": "7mBOH83tV1g7",
        "outputId": "ce6c701f-5bd6-4094-8192-81ec865d0717"
      },
      "outputs": [
        {
          "name": "stdout",
          "output_type": "stream",
          "text": [
            "Most Common Finishing Position by Pit Stop Count:\n",
            "   total_pit_stops positionOrder\n",
            "0                1             2\n",
            "1                2            13\n",
            "2                3            17\n",
            "3                4            15\n",
            "4                5             5\n",
            "5                6            14\n",
            "6                7  [11, 13, 17]\n"
          ]
        }
      ],
      "source": [
        "optimal_pits_mode = pit_stops_cumulative.groupby('total_pit_stops')['positionOrder'].agg(pd.Series.mode).reset_index()\n",
        "\n",
        "print(\"Most Common Finishing Position by Pit Stop Count:\")\n",
        "print(optimal_pits_mode)"
      ]
    },
    {
      "cell_type": "code",
      "execution_count": null,
      "metadata": {
        "id": "WrEWnqESV1g8",
        "outputId": "e86ebb29-daf8-4e20-9695-74f406eb2cd2"
      },
      "outputs": [
        {
          "data": {
            "image/png": "[encoded data removed]",
            "text/plain": [
              "<Figure size 640x480 with 2 Axes>"
            ]
          },
          "metadata": {},
          "output_type": "display_data"
        }
      ],
      "source": [
        "sns.heatmap(pit_stops_cumulative[['total_pit_stops','total_pit_time','positionOrder']].corr(),annot=True, cmap='coolwarm', fmt=\".2f\")\n",
        "plt.show()"
      ]
    },
    {
      "cell_type": "markdown",
      "metadata": {
        "id": "ooByc0eyV1g8"
      },
      "source": [
        "One Way Anova test i.e Attributes - groups of total pit time ,values -position/finish order\n",
        "\n",
        "H₀ (Null Hypothesis): No difference in finishing positions across different pit stop time groups.\n",
        "H₁ (Alternative Hypothesis): At least one group has significantly different finishing positions."
      ]
    },
    {
      "cell_type": "code",
      "execution_count": null,
      "metadata": {
        "id": "SLDUfa71V1g8",
        "outputId": "13925e1a-cf71-4291-d22a-f5719b22080c"
      },
      "outputs": [
        {
          "name": "stdout",
          "output_type": "stream",
          "text": [
            "ANOVA Test: F-statistic = 12.434, F-critical = 2.997\n",
            "Reject H0: Significant difference in finishing position based on pit stop time!\n"
          ]
        }
      ],
      "source": [
        "from scipy.stats import f_oneway,f\n",
        "\n",
        "low_pit_time = pit_stops_cumulative[pit_stops_cumulative['total_pit_time'] < pit_stops_cumulative['total_pit_time'].quantile(0.33)]['positionOrder']\n",
        "medium_pit_time = pit_stops_cumulative[(pit_stops_cumulative['total_pit_time'] >= pit_stops_cumulative['total_pit_time'].quantile(0.33)) & (pit_stops_cumulative['total_pit_time'] < pit_stops_cumulative['total_pit_time'].quantile(0.66))]['positionOrder']\n",
        "high_pit_time = pit_stops_cumulative[pit_stops_cumulative['total_pit_time'] >= pit_stops_cumulative['total_pit_time'].quantile(0.66)]['positionOrder']\n",
        "\n",
        "stat,p= f_oneway(low_pit_time, medium_pit_time, high_pit_time)\n",
        "\n",
        "k = 3\n",
        "n = len(low_pit_time) + len(medium_pit_time) + len(high_pit_time)\n",
        "\n",
        "df_between = k - 1\n",
        "df_within = n - k\n",
        "alpha = 0.05\n",
        "f_critical = f.ppf(1 - alpha, df_between, df_within)\n",
        "print(f\"ANOVA Test: F-statistic = {stat:.3f}, F-critical = {f_critical:.3f}\")\n",
        "if stat > f_critical:\n",
        "    print(\"Reject H0: Significant difference in finishing position based on pit stop time!\")\n",
        "else:\n",
        "    print(\"Accept H0: No significant difference found.\")\n"
      ]
    },
    {
      "cell_type": "markdown",
      "metadata": {
        "id": "FEcs1PacV1g8"
      },
      "source": [
        "4.\tHead-to-Head Driver Analysis:<br>\n",
        "        Which rivalries have been the most competitive? Identify head-to-head stats based on race finishes.\n"
      ]
    },
    {
      "cell_type": "code",
      "execution_count": null,
      "metadata": {
        "id": "xMoVCXxIV1g8"
      },
      "outputs": [],
      "source": [
        "#Using a nested dictionary to store results Structure : {driver :{otherdriver1:{no_maches:x,no_wins:y}}}\n",
        "\n",
        "results = pd.read_csv(\"final_dataset/results.csv\")\n",
        "drivers = pd.read_csv(\"final_dataset/drivers.csv\")\n",
        "\n",
        "results = results.merge(drivers[['driverId','forename','surname']], on='driverId', how='left')\n",
        "results['forename'] = results['forename'].astype('str')\n",
        "results['surname'] = results['surname'].astype('str')\n",
        "results['Name']  = results['forename']+\" \"+results['surname']\n",
        "\n",
        "results.drop(columns=['forename','surname'],inplace=True)\n"
      ]
    },
    {
      "cell_type": "code",
      "execution_count": null,
      "metadata": {
        "id": "scppDeArV1g9"
      },
      "outputs": [],
      "source": [
        "head_to_head = {}\n",
        "for i in results['Name'].unique():\n",
        "    head_to_head[i] = {}\n",
        "    for j in results['Name'].unique():\n",
        "        if i!=j :\n",
        "            head_to_head[i][j] = {'no_matches':0,'wins':0}"
      ]
    },
    {
      "cell_type": "code",
      "execution_count": null,
      "metadata": {
        "id": "lBgbwFvhV1g9"
      },
      "outputs": [],
      "source": [
        "from itertools import combinations\n",
        "\n",
        "for race_id, race_data in results.groupby('raceId'):\n",
        "    driver_positions = race_data[['Name', 'positionOrder']].set_index('Name').to_dict()['positionOrder']\n",
        "    for driver1, driver2 in combinations(driver_positions.keys(), 2):\n",
        "        head_to_head[driver1][driver2]['no_matches'] += 1\n",
        "        head_to_head[driver2][driver1]['no_matches'] += 1\n",
        "        if driver_positions[driver1] < driver_positions[driver2]:  # Lower positionOrder = better finish\n",
        "            head_to_head[driver1][driver2]['wins'] += 1\n",
        "        else:\n",
        "            head_to_head[driver2][driver1]['wins'] += 1"
      ]
    },
    {
      "cell_type": "code",
      "execution_count": null,
      "metadata": {
        "id": "N0Z7jgdmV1g9"
      },
      "outputs": [],
      "source": [
        "for i in head_to_head.keys():\n",
        "    for j in head_to_head[i].keys():\n",
        "        if head_to_head[i][j]['no_matches'] != 0:\n",
        "            head_to_head[i][j]['wins ratio'] = head_to_head[i][j]['wins']/head_to_head[i][j]['no_matches']\n",
        "        else:\n",
        "            head_to_head[i][j]['wins ratio'] = 0"
      ]
    },
    {
      "cell_type": "code",
      "execution_count": null,
      "metadata": {
        "id": "1YXTKjMKV1g9",
        "outputId": "406a1c03-53fa-4577-c940-9965eb138805"
      },
      "outputs": [
        {
          "name": "stdout",
          "output_type": "stream",
          "text": [
            "Top 10 F1 Rivalries:\n",
            "                   Driver1             Driver2  No_Matches  Wins  Win_Ratio\n",
            "6023        kimi räikkönen     fernando alonso         882   480   0.544218\n",
            "701714    daniel ricciardo        sergio pérez         765   360   0.470588\n",
            "700854        sergio pérez    daniel ricciardo         765   405   0.529412\n",
            "10336         felipe massa       jenson button         753   375   0.498008\n",
            "14632        jenson button        felipe massa         753   378   0.501992\n",
            "18073   rubens barrichello     david coulthard         741   360   0.485830\n",
            "11200      david coulthard  rubens barrichello         741   381   0.514170\n",
            "700043        sergio pérez     fernando alonso         732   402   0.549180\n",
            "701718    daniel ricciardo     valtteri bottas         678   327   0.482301\n",
            "705155     valtteri bottas    daniel ricciardo         678   351   0.517699\n"
          ]
        }
      ],
      "source": [
        "h2h_list = []\n",
        "\n",
        "for driver1 in head_to_head:\n",
        "    for driver2 in head_to_head[driver1]:\n",
        "        stats = head_to_head[driver1][driver2]\n",
        "        h2h_list.append([driver1, driver2, stats['no_matches'], stats['wins'], stats['wins ratio']])\n",
        "\n",
        "h2h_df = pd.DataFrame(h2h_list, columns=['Driver1', 'Driver2', 'No_Matches', 'Wins', 'Win_Ratio'])\n",
        "top_h2h = h2h_df[(h2h_df['Win_Ratio']>=0.47) & (h2h_df['Win_Ratio']<=0.55)].sort_values(by=['No_Matches','Win_Ratio'],ascending=[False,True])\n",
        "\n",
        "print(\"Top 10 F1 Rivalries:\")\n",
        "print(top_h2h.head(10))"
      ]
    },
    {
      "cell_type": "markdown",
      "metadata": {
        "id": "7hwoKJrzV1g9"
      },
      "source": [
        "    5. Hypothetical Driver Swaps:<br>\n",
        "        ◦ Swap two drivers between different teams and predict the impact on team and driver standings.<br>\n",
        "        (Since drivers have been in different teams in different seasons we study the impact by swapping drivers last team as available in the dataset)"
      ]
    },
    {
      "cell_type": "code",
      "execution_count": 209,
      "metadata": {
        "id": "zMr5BVw4jgng"
      },
      "outputs": [
        {
          "name": "stdout",
          "output_type": "stream",
          "text": [
            "   resultId  raceId  driverId  constructorId number  grid positionText  \\\n",
            "0         1      18         1              1     22     1            1   \n",
            "1         2      18         2              2      3     5            2   \n",
            "2         3      18         3              3      7     7            3   \n",
            "3         4      18         4              4      5    11            4   \n",
            "4         5      18         5              1     23     3            5   \n",
            "\n",
            "   positionOrder  points  laps milliseconds fastestLap rank fastestLapSpeed  \\\n",
            "0              1    10.0    58      5690616         39    2         218.300   \n",
            "1              2     8.0    58      5696094         41    3         217.586   \n",
            "2              3     6.0    58      5698779         41    5         216.719   \n",
            "3              4     5.0    58      5707797         58    7         215.464   \n",
            "4              5     4.0    58      5708630         43    1         218.385   \n",
            "\n",
            "     status  fastestlaptime_ms               Name constructor_name  year  \n",
            "0  Finished              87452     lewis hamilton          mclaren  2008  \n",
            "1  Finished              87739      nick heidfeld       bmw sauber  2008  \n",
            "2  Finished              88090       nico rosberg         williams  2008  \n",
            "3  Finished              88603    fernando alonso          renault  2008  \n",
            "4  Finished              87418  heikki kovalainen          mclaren  2008  \n"
          ]
        }
      ],
      "source": [
        "drivers = pd.read_csv(\"final_dataset/drivers.csv\")\n",
        "constructors = pd.read_csv(\"final_dataset/constructors.csv\")\n",
        "driver_standings = pd.read_csv(\"final_dataset/driver_standings.csv\")\n",
        "constructor_standings = pd.read_csv(\"final_dataset/constructor_standings.csv\")\n",
        "results = pd.read_csv(\"final_dataset/results.csv\")\n",
        "races = pd.read_csv(\"final_dataset/races.csv\")\n",
        "\n",
        "results = results.merge(drivers[['driverId', 'forename','surname']], on='driverId', how='left')\n",
        "results['forename'] = results['forename'].astype('str')\n",
        "results['surname'] = results['surname'].astype('str')\n",
        "results['Name']  = results['forename']+\" \"+results['surname']\n",
        "results.drop(columns=['forename','surname'],inplace=True)\n",
        "results = results.merge(constructors[['constructorId', 'name']], on='constructorId', how='left')\n",
        "results = results.merge(races[['raceId', 'year']], on='raceId', how='left')\n",
        "results.rename(columns={'name':'constructor_name'},inplace=True)\n",
        "print(results.head())"
      ]
    },
    {
      "cell_type": "code",
      "execution_count": 210,
      "metadata": {},
      "outputs": [],
      "source": [
        "driver1 = 'max verstappen'\n",
        "driver2 = 'fernando alonso'"
      ]
    },
    {
      "cell_type": "code",
      "execution_count": 222,
      "metadata": {},
      "outputs": [
        {
          "name": "stdout",
          "output_type": "stream",
          "text": [
            "\n",
            "Max Verstappen's Teams by Year:\n",
            "       year constructor_name\n",
            "22546  2015       toro rosso\n",
            "22921  2016       toro rosso\n",
            "23000  2016         red bull\n",
            "23378  2017         red bull\n",
            "23782  2018         red bull\n",
            "24199  2019         red bull\n",
            "24639  2020         red bull\n",
            "24961  2021         red bull\n",
            "25418  2022         red bull\n",
            "25840  2023         red bull\n",
            "26280  2024         red bull\n",
            "\n",
            "'fernando alonso's Teams by Year:\n",
            "       year constructor_name\n",
            "3      2008          renault\n",
            "369    2007          mclaren\n",
            "742    2006          renault\n",
            "1140   2005          renault\n",
            "1516   2004          renault\n",
            "1880   2003          renault\n",
            "2567   2001          minardi\n",
            "7557   2009          renault\n",
            "20320  2010          ferrari\n",
            "20779  2011          ferrari\n",
            "21233  2012          ferrari\n",
            "21710  2013          ferrari\n",
            "22130  2014          ferrari\n",
            "22569  2015          mclaren\n",
            "22932  2016          mclaren\n",
            "23387  2017          mclaren\n",
            "23781  2018          mclaren\n",
            "24978  2021   alpine f1 team\n",
            "25408  2022   alpine f1 team\n",
            "25842  2023     aston martin\n",
            "26288  2024     aston martin\n"
          ]
        }
      ],
      "source": [
        "verstappen_teams = results[results['Name'] == driver1][['year', 'constructor_name']].drop_duplicates()\n",
        "print(\"\\nMax Verstappen's Teams by Year:\")\n",
        "print(verstappen_teams)\n",
        "\n",
        "button_teams = results[results['Name'] == driver2][['year', 'constructor_name']].drop_duplicates()\n",
        "print(\"\\n'fernando alonso's Teams by Year:\")\n",
        "print(button_teams)\n"
      ]
    },
    {
      "cell_type": "code",
      "execution_count": 223,
      "metadata": {},
      "outputs": [
        {
          "name": "stdout",
          "output_type": "stream",
          "text": [
            "Swapping Verstappen (toro rosso) <-> Fernando (mclaren) in 2015\n",
            "       resultId  raceId  driverId  constructorId number  grid positionText  \\\n",
            "22546     22550     926       830              5     33    11            R   \n",
            "22558     22562     927       830              5     33     6            7   \n",
            "22569     22573     927         4              1     14    18            R   \n",
            "22583     22587     928         4              1     14    18           12   \n",
            "22588     22592     928       830              5     33    13           17   \n",
            "22602     22606     929         4              1     14    14           11   \n",
            "22609     22613     929       830              5     33    15            R   \n",
            "22622     22626     930       830              5     33     6           11   \n",
            "22631     22635     930         4              1     14    13            R   \n",
            "22649     22653     931       830              5     33     9            R   \n",
            "22650     22654     931         4              1     14    13            R   \n",
            "22666     22670     932       830              5     33    19           15   \n",
            "22671     22675     932         4              1     14    13            R   \n",
            "22679     22683     933       830              5     33     7            8   \n",
            "22691     22695     933         4              1     14    19            R   \n",
            "22701     22705     934         4              1     14    17           10   \n",
            "22707     22711     934       830              5     33    13            R   \n",
            "22715     22719     936       830              5     33     9            4   \n",
            "22716     22720     936         4              1     14    15            5   \n",
            "22739     22743     937       830              5     33    18            8   \n",
            "22744     22748     937         4              1     14    20           13   \n",
            "22763     22767     938       830              5     33    20           12   \n",
            "22769     22773     938         4              1     14    16           18   \n",
            "22779     22783     939       830              5     33     8            8   \n",
            "22788     22792     939         4              1     14    12            R   \n",
            "22800     22804     940       830              5     33    17            9   \n",
            "22802     22806     940         4              1     14    12           11   \n",
            "22820     22825     941       830              5     33     9           10   \n",
            "22821     22826     941         4              1     14    19           11   \n",
            "22835     22840     942       830              5     33     8            4   \n",
            "22842     22847     942         4              1     14     9           11   \n",
            "22860     22865     943       830              5     33     8            9   \n",
            "22871     22876     943         4              1     14    18            R   \n",
            "22880     22885     944       830              5     33     9            9   \n",
            "22886     22891     944         4              1     14    20           15   \n",
            "22907     22912     945       830              5     33    11           16   \n",
            "22908     22913     945         4              1     14    16           17   \n",
            "\n",
            "       positionOrder  points  laps milliseconds fastestLap rank  \\\n",
            "22546             13     0.0    32           \\N         30   13   \n",
            "22558              7     6.0    56      6163555         42    9   \n",
            "22569             18     0.0    21           \\N         17   17   \n",
            "22583             12     0.0    55           \\N         40   13   \n",
            "22588             17     0.0    52           \\N         46   14   \n",
            "22602             11     0.0    56           \\N         38   13   \n",
            "22609             18     0.0    34           \\N         32   16   \n",
            "22622             11     0.0    65           \\N         46   12   \n",
            "22631             20     0.0    26           \\N         23   18   \n",
            "22649             18     0.0    62           \\N         49    5   \n",
            "22650             19     0.0    41           \\N         36   16   \n",
            "22666             15     0.0    69           \\N         50   11   \n",
            "22671             20     0.0    44           \\N         41   18   \n",
            "22679              8     4.0    70           \\N         64    9   \n",
            "22691             20     0.0     0           \\N         \\N    0   \n",
            "22701             10     1.0    51           \\N         30   12   \n",
            "22707             16     0.0     3           \\N          3   16   \n",
            "22715              4    12.0    69      6414236         62   11   \n",
            "22716              5    10.0    69      6419064         67   10   \n",
            "22739              8     4.0    43      5076463         36    4   \n",
            "22744             13     0.0    42           \\N         34    5   \n",
            "22763             12     0.0    52           \\N         35    4   \n",
            "22769             18     0.0    47           \\N         42   15   \n",
            "22779              8     4.0    61      7333568         43    4   \n",
            "22788             17     0.0    33           \\N         27   16   \n",
            "22800              9     2.0    53      5381823         32    7   \n",
            "22802             11     0.0    52           \\N         45   16   \n",
            "22820             10     1.0    53      5919448         45   15   \n",
            "22821             11     0.0    53      5922234         29   12   \n",
            "22835              4    12.0    56      6675062         51    9   \n",
            "22842             11     0.0    56      6707519         55   11   \n",
            "22860              9     2.0    71      6190267         70   10   \n",
            "22871             20     0.0     1           \\N         \\N    0   \n",
            "22880              9     2.0    70           \\N         56    9   \n",
            "22886             15     0.0    70           \\N         54   15   \n",
            "22907             16     0.0    54           \\N         40    6   \n",
            "22908             17     0.0    53           \\N         52    3   \n",
            "\n",
            "      fastestLapSpeed        status  fastestlaptime_ms             Name  \\\n",
            "22546         202.458        Engine              94295   max verstappen   \n",
            "22558         190.810      Finished             104579   max verstappen   \n",
            "22569         183.983           ERS             108460  fernando alonso   \n",
            "22583         189.183        +1 Lap             103728  fernando alonso   \n",
            "22588         188.906  Transmission             103880   max verstappen   \n",
            "22602         196.815        +1 Lap              98991  fernando alonso   \n",
            "22609         195.600    Electrical              99607   max verstappen   \n",
            "22622         182.358        +1 Lap              91896   max verstappen   \n",
            "22631         179.446        Brakes              93387  fernando alonso   \n",
            "22649         152.310      Accident              78873   max verstappen   \n",
            "22650         149.308       Gearbox              80459  fernando alonso   \n",
            "22666         199.699        +1 Lap              78616   max verstappen   \n",
            "22671         197.280        Engine              79580  fernando alonso   \n",
            "22679         215.256        +1 Lap              72349   max verstappen   \n",
            "22691              \\N     Collision               -100  fernando alonso   \n",
            "22701         214.471        +1 Lap              98883  fernando alonso   \n",
            "22707         150.647      Spun off             140776   max verstappen   \n",
            "22715         179.938      Finished              87650   max verstappen   \n",
            "22716         180.637      Finished              87311  fernando alonso   \n",
            "22739         222.592      Finished             113276   max verstappen   \n",
            "22744         221.778        +1 Lap             113692  fernando alonso   \n",
            "22763         238.640        +1 Lap              87390   max verstappen   \n",
            "22769         233.575       +6 Laps              89285  fernando alonso   \n",
            "22779         165.315      Finished             110298   max verstappen   \n",
            "22788         160.900       Gearbox             113325  fernando alonso   \n",
            "22800         212.803      Finished              98237   max verstappen   \n",
            "22802         209.862        +1 Lap              99614  fernando alonso   \n",
            "22820         203.871      Finished             103265   max verstappen   \n",
            "22821         205.115      Finished             102639  fernando alonso   \n",
            "22835         192.366      Finished             103172   max verstappen   \n",
            "22842         190.243      Finished             104323  fernando alonso   \n",
            "22860         187.576      Finished              82603   max verstappen   \n",
            "22871              \\N       Retired               -100  fernando alonso   \n",
            "22880         204.185        +1 Lap              75972   max verstappen   \n",
            "22886         202.726        +1 Lap              76519  fernando alonso   \n",
            "22907         189.079        +1 Lap             105746   max verstappen   \n",
            "22908         190.793       +2 Laps             104795  fernando alonso   \n",
            "\n",
            "      constructor_name  year  \n",
            "22546          mclaren  2015  \n",
            "22558          mclaren  2015  \n",
            "22569       toro rosso  2015  \n",
            "22583       toro rosso  2015  \n",
            "22588          mclaren  2015  \n",
            "22602       toro rosso  2015  \n",
            "22609          mclaren  2015  \n",
            "22622          mclaren  2015  \n",
            "22631       toro rosso  2015  \n",
            "22649          mclaren  2015  \n",
            "22650       toro rosso  2015  \n",
            "22666          mclaren  2015  \n",
            "22671       toro rosso  2015  \n",
            "22679          mclaren  2015  \n",
            "22691       toro rosso  2015  \n",
            "22701       toro rosso  2015  \n",
            "22707          mclaren  2015  \n",
            "22715          mclaren  2015  \n",
            "22716       toro rosso  2015  \n",
            "22739          mclaren  2015  \n",
            "22744       toro rosso  2015  \n",
            "22763          mclaren  2015  \n",
            "22769       toro rosso  2015  \n",
            "22779          mclaren  2015  \n",
            "22788       toro rosso  2015  \n",
            "22800          mclaren  2015  \n",
            "22802       toro rosso  2015  \n",
            "22820          mclaren  2015  \n",
            "22821       toro rosso  2015  \n",
            "22835          mclaren  2015  \n",
            "22842       toro rosso  2015  \n",
            "22860          mclaren  2015  \n",
            "22871       toro rosso  2015  \n",
            "22880          mclaren  2015  \n",
            "22886       toro rosso  2015  \n",
            "22907          mclaren  2015  \n",
            "22908       toro rosso  2015  \n"
          ]
        }
      ],
      "source": [
        "swap_year = 2015\n",
        "verstappen_team = results[(results['Name'] == driver1) & (results['year'] == swap_year)]['constructor_name'].iloc[0]\n",
        "fernando_team = results[(results['Name'] == driver2) & (results['year'] == swap_year)]['constructor_name'].iloc[0]\n",
        "print(f\"Swapping Verstappen ({verstappen_team}) <-> Fernando ({fernando_team}) in {swap_year}\")\n",
        "results_swapped = results.copy()\n",
        "results_swapped.loc[(results_swapped['Name'] == driver1) & (results_swapped['year'] == swap_year), 'constructor_name'] = fernando_team\n",
        "results_swapped.loc[(results_swapped['Name'] == driver2) & (results_swapped['year'] == swap_year), 'constructor_name'] = verstappen_team\n",
        "print(results_swapped[(results_swapped['Name'].isin([driver1, driver2])) & (results_swapped['year'] == swap_year)])"
      ]
    },
    {
      "cell_type": "code",
      "execution_count": 224,
      "metadata": {},
      "outputs": [
        {
          "name": "stdout",
          "output_type": "stream",
          "text": [
            "Driver Standings before Swap:\n",
            "      year              Name  points\n",
            "2998  2015    lewis hamilton   381.0\n",
            "3002  2015      nico rosberg   322.0\n",
            "3006  2015  sebastian vettel   278.0\n",
            "2997  2015    kimi räikkönen   150.0\n",
            "3008  2015   valtteri bottas   136.0\n",
            "2992  2015      felipe massa   121.0\n",
            "2991  2015      daniil kvyat    95.0\n",
            "2990  2015  daniel ricciardo    92.0\n",
            "3007  2015      sergio pérez    78.0\n",
            "3001  2015   nico hülkenberg    58.0\n",
            "max verstappen \n",
            "\n",
            "      year            Name  points\n",
            "3000  2015  max verstappen    49.0\n",
            "\n",
            " fernando alonso\n",
            "      year             Name  points\n",
            "2994  2015  fernando alonso    11.0\n",
            "\n",
            "Constructor Standings before Swap:\n",
            "      year constructor_name  points\n",
            "1015  2015         mercedes   703.0\n",
            "1010  2015          ferrari   428.0\n",
            "1019  2015         williams   257.0\n",
            "1016  2015         red bull   187.0\n",
            "1011  2015      force india   136.0\n",
            "1012  2015         lotus f1    78.0\n",
            "1018  2015       toro rosso    67.0\n",
            "1017  2015           sauber    36.0\n",
            "1014  2015          mclaren    27.0\n",
            "1013  2015   manor marussia     0.0\n",
            "toro rosso\n",
            "\n",
            "      year constructor_name  points\n",
            "1018  2015       toro rosso    67.0\n",
            "\n",
            "mclaren\n",
            "      year constructor_name  points\n",
            "1014  2015          mclaren    27.0\n"
          ]
        }
      ],
      "source": [
        "driver_points = results.groupby(['year', 'Name'])['points'].sum().reset_index()\n",
        "driver_points = driver_points[driver_points['year']==swap_year].sort_values(by=['year', 'points'], ascending=[False, False])\n",
        "\n",
        "print(\"Driver Standings before Swap:\")\n",
        "print(driver_points.head(10))\n",
        "print(driver1,\"\\n\")\n",
        "print(driver_points[driver_points['Name']==driver1])\n",
        "print(\"\\n\",driver2)\n",
        "print(driver_points[driver_points['Name']==driver2])\n",
        "\n",
        "constructor_points = results.groupby(['year', 'constructor_name'])['points'].sum().reset_index()\n",
        "constructor_points = constructor_points[constructor_points['year']==swap_year].sort_values(by=['year', 'points'], ascending=[False, False])\n",
        "\n",
        "\n",
        "print(\"\\nConstructor Standings before Swap:\")\n",
        "print(constructor_points.head(10))\n",
        "print(\"toro rosso\\n\")\n",
        "print(constructor_points[constructor_points['constructor_name']=='toro rosso'])\n",
        "print(\"\\nmclaren\")\n",
        "print(constructor_points[constructor_points['constructor_name']=='mclaren'])\n"
      ]
    },
    {
      "cell_type": "code",
      "execution_count": 225,
      "metadata": {},
      "outputs": [
        {
          "name": "stdout",
          "output_type": "stream",
          "text": [
            "Updated Driver Standings After Swap:\n",
            "      year              Name  points\n",
            "2998  2015    lewis hamilton   381.0\n",
            "3002  2015      nico rosberg   322.0\n",
            "3006  2015  sebastian vettel   278.0\n",
            "2997  2015    kimi räikkönen   150.0\n",
            "3008  2015   valtteri bottas   136.0\n",
            "2992  2015      felipe massa   121.0\n",
            "2991  2015      daniil kvyat    95.0\n",
            "2990  2015  daniel ricciardo    92.0\n",
            "3007  2015      sergio pérez    78.0\n",
            "3001  2015   nico hülkenberg    58.0\n",
            "max verstappen \n",
            "\n",
            "      year            Name  points\n",
            "3000  2015  max verstappen    49.0\n",
            "\n",
            " fernando alonso\n",
            "      year             Name  points\n",
            "2994  2015  fernando alonso    11.0\n",
            "\n",
            "Updated Constructor Standings After Swap:\n",
            "      year constructor_name  points\n",
            "1015  2015         mercedes   703.0\n",
            "1010  2015          ferrari   428.0\n",
            "1019  2015         williams   257.0\n",
            "1016  2015         red bull   187.0\n",
            "1011  2015      force india   136.0\n",
            "1012  2015         lotus f1    78.0\n",
            "1014  2015          mclaren    65.0\n",
            "1017  2015           sauber    36.0\n",
            "1018  2015       toro rosso    29.0\n",
            "1013  2015   manor marussia     0.0\n",
            "toro rosso\n",
            "\n",
            "      year constructor_name  points\n",
            "1018  2015       toro rosso    29.0\n",
            "\n",
            "mclaren\n",
            "      year constructor_name  points\n",
            "1014  2015          mclaren    65.0\n"
          ]
        }
      ],
      "source": [
        "driver_points = results_swapped.groupby(['year', 'Name'])['points'].sum().reset_index()\n",
        "driver_points = driver_points[driver_points['year']==swap_year].sort_values(by=['year', 'points'], ascending=[False, False])\n",
        "\n",
        "print(\"Updated Driver Standings After Swap:\")\n",
        "print(driver_points.head(10))\n",
        "print(driver1,\"\\n\")\n",
        "print(driver_points[driver_points['Name']==driver1])\n",
        "print(\"\\n\",driver2)\n",
        "print(driver_points[driver_points['Name']==driver2])\n",
        "\n",
        "constructor_points_swapped = results_swapped.groupby(['year', 'constructor_name'])['points'].sum().reset_index()\n",
        "constructor_points_swapped = constructor_points_swapped[constructor_points_swapped['year']==swap_year].sort_values(by=['year', 'points'], ascending=[False, False])\n",
        "\n",
        "print(\"\\nUpdated Constructor Standings After Swap:\")\n",
        "print(constructor_points_swapped.head(10))\n",
        "print(\"toro rosso\\n\")\n",
        "print(constructor_points_swapped[constructor_points_swapped['constructor_name']=='toro rosso'])\n",
        "print(\"\\nmclaren\")\n",
        "print(constructor_points_swapped[constructor_points_swapped['constructor_name']=='mclaren'])"
      ]
    },
    {
      "cell_type": "markdown",
      "metadata": {},
      "source": [
        "From the updated stats we can clearly see that the driver standings does not change as we do not affect a individuals performance by swapping teams and also assuming all other factors like pit stop strategies are almost same for the swapped teams.\n",
        "\n",
        "Also we can see that by swapping teams of a higher ranked driver like max verstappen with team of low ranked driver like fernandez leads to a drastic change in constructor standings.The rankings between the teams is inverted."
      ]
    },
    {
      "cell_type": "markdown",
      "metadata": {},
      "source": []
    }
  ],
  "metadata": {
    "colab": {
      "provenance": []
    },
    "kernelspec": {
      "display_name": "usr",
      "language": "python",
      "name": "python3"
    },
    "language_info": {
      "codemirror_mode": {
        "name": "ipython",
        "version": 3
      },
      "file_extension": ".py",
      "mimetype": "text/x-python",
      "name": "python",
      "nbconvert_exporter": "python",
      "pygments_lexer": "ipython3",
      "version": "3.12.3"
    }
  },
  "nbformat": 4,
  "nbformat_minor": 0
}
